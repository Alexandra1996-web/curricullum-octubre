{
 "cells": [
  {
   "cell_type": "code",
   "execution_count": 5,
   "metadata": {},
   "outputs": [
    {
     "name": "stdout",
     "output_type": "stream",
     "text": [
      "Hola mundo\n"
     ]
    }
   ],
   "source": [
    "print(\"Hola mundo\") \n",
    "#el primer hola mundo\n",
    "#essfdfs \n",
    "#esto es un comentario \n",
    "#el uso de comillas pueden ser comillas simples o dobles"
   ]
  },
  {
   "cell_type": "code",
   "execution_count": 11,
   "metadata": {},
   "outputs": [
    {
     "name": "stdout",
     "output_type": "stream",
     "text": [
      "Hola Mundo\n",
      "Mbaichapa\n",
      "Manzana\n"
     ]
    }
   ],
   "source": [
    "saludo = \"Hola Mundo\" \n",
    "\n",
    "print(saludo)\n",
    "\n",
    "saludo = \"Mbaichapa\"\n",
    "\n",
    "#Buenas practicas para nombrar variables\n",
    "#se utiliza guion bajo \n",
    "#no dejar espacios \n",
    "#nombre tenga relacion con el valor \n",
    "#snake_case \n",
    "#no utilizar palabras reservadas, mas adelante veremos que son las palabras reservadas\n",
    "\n",
    "print(saludo)\n",
    "\n",
    "\n",
    "tipo_fruta = \"Manzana\"\n",
    "\n",
    "print(tipo_fruta)\n",
    "\n"
   ]
  },
  {
   "cell_type": "markdown",
   "metadata": {},
   "source": [
    "# Desafio 1: Crear una variable llamada nombre_companhero y asignar el nombre del companhero de al lado. De la derecha. E imprimir. \n",
    "\n",
    "\n",
    "Nivel 1\n",
    "\n",
    "## Nivel 2 \n",
    "\n",
    "### Nivel 3 \n",
    "**Esto es negrita**\n",
    "\n",
    "\n",
    "_Esto es cursiva_\n",
    "\n"
   ]
  },
  {
   "cell_type": "code",
   "execution_count": null,
   "metadata": {},
   "outputs": [],
   "source": [
    "#Solucion de Tania\n",
    "nombre_companhero = \"Mayra\"\n",
    "print(nombre_companhero)\n",
    "#Solucion de Analia\n",
    "nombre_companero = \"Carmen\"\n",
    "print (nombre_companero)\n",
    "#Comentario de una linea \n",
    "\n",
    "''' Esto es un comentario multilinea xxxxxxx\n",
    "xxxxx\n",
    "xxxxx\n",
    "xxxxx\n",
    "xxxxx\n",
    "''' \n",
    "\n",
    "\n"
   ]
  },
  {
   "cell_type": "markdown",
   "metadata": {},
   "source": [
    "# Tipo de datos "
   ]
  },
  {
   "cell_type": "code",
   "execution_count": 24,
   "metadata": {},
   "outputs": [
    {
     "name": "stdout",
     "output_type": "stream",
     "text": [
      "Esto es un texto\n",
      "Frutilla\n",
      "3\n",
      "3.4\n",
      "True\n",
      "False\n"
     ]
    }
   ],
   "source": [
    "#Tipos de datos \n",
    "#Letras = textos \n",
    "#Decimales y enteros \n",
    "#Boleanos \n",
    "\n",
    "dato_tipo_texto = \"Esto es un texto\" #Se abre y cierran comillas \n",
    "print(dato_tipo_texto)\n",
    "fruta = \"Frutilla\" #dato tipo texto, esto es un string --> str \n",
    "print(fruta)\n",
    "kilos_frutillas = 3  #dato tipo numero, no lleva comillas, numero entero --> entero = integer = int \n",
    "print(kilos_frutillas)\n",
    "kilos_frutillas_dos = 3.4 #dato tipo flotante -->float --> decimales \n",
    "print(kilos_frutillas_dos)\n",
    "esta_abierto_sabado = True #esto es un dato boleano\n",
    "print(esta_abierto_sabado)\n",
    "esta_abierto_feriado = False #esto es un dato boleano\n",
    "print(esta_abierto_feriado)\n"
   ]
  },
  {
   "cell_type": "code",
   "execution_count": 34,
   "metadata": {},
   "outputs": [
    {
     "name": "stdout",
     "output_type": "stream",
     "text": [
      "<class 'str'>\n",
      "<class 'int'>\n",
      "<class 'float'>\n",
      "<class 'bool'>\n",
      "<class 'int'>\n"
     ]
    }
   ],
   "source": [
    "dato_tipo_texto = \"Esto es un texto\" #Se abre y cierran comillas \n",
    "fruta = \"Frutilla\" #dato tipo texto, esto es un string --> str \n",
    "kilos_frutillas = 3  #dato tipo numero, no lleva comillas, numero entero --> entero = integer = int \n",
    "kilos_frutillas_dos = 3.4 #dato tipo flotante -->float --> decimales \n",
    "esta_abierto_sabado = True #esto es un dato boleano\n",
    "esta_abierto_feriado = False #esto es un dato boleano \n",
    "\n",
    "print(type(fruta) )\n",
    "print(type(kilos_frutillas)  )\n",
    "print(type(kilos_frutillas_dos)  )\n",
    "print(type(esta_abierto_sabado)  )\n",
    "print(type(30)  )\n"
   ]
  },
  {
   "cell_type": "markdown",
   "metadata": {},
   "source": [
    "# Operaciones aritmeticas \n",
    "\n"
   ]
  },
  {
   "cell_type": "code",
   "execution_count": 43,
   "metadata": {},
   "outputs": [
    {
     "name": "stdout",
     "output_type": "stream",
     "text": [
      "4\n",
      "2\n",
      "24\n",
      "6.0\n",
      "6\n",
      "35000\n",
      "35000\n"
     ]
    }
   ],
   "source": [
    "#Suma \n",
    "print(2+2) \n",
    "#Resta \n",
    "print(4-2)\n",
    "#Multiplicacion \n",
    "print(12*2)\n",
    "#Division \n",
    "print(12/2) \n",
    "#Division entera \n",
    "print(12//2) \n",
    "#Python respeta la norma de precedencia  de operadores. Observacion se pueden utilizar parentesis para alterar el orden\n",
    "\n",
    "numero_de_frutas_compradas = 5\n",
    "\n",
    "precio_unitario_de_frutas = 7000\n",
    "\n",
    "#Multiplicacion para obtener el precio total de las frutas compradas \n",
    "\n",
    "print(numero_de_frutas_compradas*precio_unitario_de_frutas)\n",
    "\n",
    "precio_total =  numero_de_frutas_compradas*precio_unitario_de_frutas\n",
    "print(precio_total)\n",
    "\n",
    "\n",
    "\n",
    "\n"
   ]
  },
  {
   "cell_type": "markdown",
   "metadata": {},
   "source": [
    "## Challenge \n",
    "\n",
    "Suma: asignar dos números en dos variables diferentes `cantidad_de_manzanas` y `cantidad_de_naranjas`. Luego sumar ambas variables en `cantidad_de_frutas`. Imprimir la última variable.\n",
    "\n",
    "Resta: asignar un valor numérico a la variable `frutas_vendidas`. Luego, asignar la resta entre `cantidad_de_frutas` y `frutas_vendidas` a la variable `frutas_restantes`. Imprimir la última variable."
   ]
  },
  {
   "cell_type": "code",
   "execution_count": 44,
   "metadata": {},
   "outputs": [
    {
     "name": "stdout",
     "output_type": "stream",
     "text": [
      "9\n",
      "6\n"
     ]
    }
   ],
   "source": [
    "#Solucion de Lara \n",
    "\n",
    "#Suma\n",
    "cantidad_de_manzanas = 5\n",
    "cantidad_de_naranjas = 4\n",
    "cantidad_de_frutas = (cantidad_de_manzanas + cantidad_de_naranjas)\n",
    "print(cantidad_de_frutas)\n",
    "\n",
    "#Resta\n",
    "frutas_vendidas = 3\n",
    "frutas_restantes = (cantidad_de_frutas - frutas_vendidas)\n",
    "print(frutas_restantes)"
   ]
  },
  {
   "cell_type": "code",
   "execution_count": 48,
   "metadata": {},
   "outputs": [
    {
     "name": "stdout",
     "output_type": "stream",
     "text": [
      "8\n",
      "1\n"
     ]
    }
   ],
   "source": [
    "#Solucion de Kerana \n",
    "\n",
    "#SUMA\n",
    "cantidad_de_manzanas = 5\n",
    "cantidad_de_naranjas = 3\n",
    "cantidad_de_frutas = cantidad_de_manzanas + cantidad_de_naranjas\n",
    "print (cantidad_de_frutas)\n",
    "\n",
    "#RESTA\n",
    "frutas_vendidas = 10\n",
    "cantidad_de_frutas = 9\n",
    "frutas_restantes = frutas_vendidas - cantidad_de_frutas\n",
    "print (frutas_restantes)"
   ]
  },
  {
   "cell_type": "markdown",
   "metadata": {},
   "source": [
    "# Jugando con texto "
   ]
  },
  {
   "cell_type": "code",
   "execution_count": 62,
   "metadata": {},
   "outputs": [
    {
     "name": "stdout",
     "output_type": "stream",
     "text": [
      "Le conozco a nombre y apellido\n",
      "Le conozco a Kerana Pirezy tiene22\n",
      "Le conozco a  Kerana  Pirez y tiene 22\n",
      "Kerana  Pirez True\n"
     ]
    }
   ],
   "source": [
    "nombre = \"Kerana \"\n",
    "apellido = \"Pirez\"\n",
    "esta_presente = True \n",
    "anhos = 22\n",
    "\n",
    "#print(nombre + apellido + esta_presente) #Concatenacion \n",
    "\n",
    "#Le conozco a nombre y apellido y tiene 22 anhos \n",
    "\n",
    "print(\"Le conozco a nombre y apellido\" )\n",
    "\n",
    "print(\"Le conozco a \" + nombre + apellido + \"y tiene\" + str(anhos)) \n",
    "\n",
    "# int --> entero --> numeros\n",
    "# str --> texto \n",
    "\n",
    "\n",
    "print(\"Le conozco a \" , nombre , apellido , \"y tiene\", 22)\n",
    "\n",
    "print(nombre,apellido, esta_presente) #La coma se utiliza para separar elementos \n",
    "\n",
    "\n",
    "\n",
    "\n"
   ]
  },
  {
   "cell_type": "markdown",
   "metadata": {},
   "source": [
    "# Input = Obtener datos del usuario"
   ]
  },
  {
   "cell_type": "code",
   "execution_count": 69,
   "metadata": {},
   "outputs": [
    {
     "name": "stdout",
     "output_type": "stream",
     "text": [
      "Tamy\n",
      "Tamy tiene 29 anhos\n",
      "31\n"
     ]
    }
   ],
   "source": [
    "#Solitar contrasenha \n",
    "#Solicitar usuario \n",
    "#El usuario nombre tiene edad \n",
    "#Imprimir usuario tiene tantos anhos \n",
    "\n",
    "#input(\"Ingresa tu usuario\")\n",
    "solicitar_usuario = input(\"Ingresa tu usuario\") \n",
    "print(solicitar_usuario)\n",
    "\n",
    "edad = input(\"ingresar edad\")\n",
    "\n",
    "print(solicitar_usuario, \"tiene\", edad, \"anhos\")\n",
    "\n",
    "print(int(edad) + 2) \n",
    "\n"
   ]
  },
  {
   "cell_type": "markdown",
   "metadata": {},
   "source": [
    "### Challenge\n",
    "\n",
    "Solicitar al usuario ingresar dos números y almacenarlos en dos variables. Luego, imprimir la suma de los dos números."
   ]
  },
  {
   "cell_type": "code",
   "execution_count": 70,
   "metadata": {},
   "outputs": [
    {
     "name": "stdout",
     "output_type": "stream",
     "text": [
      "5 4\n",
      "9\n"
     ]
    }
   ],
   "source": [
    "numero1 = input (\"ingresar_primer_numero\")\n",
    "\n",
    "numero2 = input(\"ingresar_segundo_numero\")\n",
    "\n",
    "print(numero1,numero2)\n",
    "\n",
    "suma_variables =  int(numero1) + int(numero2) \n",
    "\n",
    "print(suma_variables) "
   ]
  },
  {
   "cell_type": "code",
   "execution_count": 71,
   "metadata": {},
   "outputs": [
    {
     "name": "stdout",
     "output_type": "stream",
     "text": [
      "Mi anho de nacimiento es 1996\n",
      "Estamos en el anho: 2022\n",
      "Tengo  26 anhos\n"
     ]
    }
   ],
   "source": [
    "solicitar_anho_de_nacimiento= input(\"Ingresa tu anho de nacimiento\") # input para pedir al usuario para ingresar datos de su nacimiento\n",
    "print(\"Mi anho de nacimiento es\", solicitar_anho_de_nacimiento)#este imprime el dato que ingreso el usuario sobre su nacimiento\n",
    "solicitar_el_anho_actual=input(\"Ingresa en que anho estamos\") # este pide al usuario el input del anho en el que estamos \n",
    "print(\"Estamos en el anho:\", solicitar_el_anho_actual) #este imprime el anho en el que estamos\n",
    "edad=( int(solicitar_el_anho_actual)- int(solicitar_anho_de_nacimiento)) #este calcula la edad del usuario utilizando los variables que el usuario ingreso.\n",
    " #dado que LOS input SON stringS, los tuve que ocnvertir en int para poder calcular y para que aparezca como numero. \n",
    "print(\"Tengo \", edad, \"anhos\") # este imprime la edad del usuario"
   ]
  },
  {
   "cell_type": "markdown",
   "metadata": {},
   "source": [
    "# Funciones \n"
   ]
  },
  {
   "cell_type": "code",
   "execution_count": 74,
   "metadata": {},
   "outputs": [
    {
     "name": "stdout",
     "output_type": "stream",
     "text": [
      "Hola Mundo\n",
      "Hello world\n",
      "Maitei Arapy\n",
      "Preparar el pan o comprar la pre-pizza\n",
      "Cortar verduras\n",
      "Prepar salsa o comprar\n",
      "Rallar el queso de preferencia\n",
      "Comer la pizza\n"
     ]
    }
   ],
   "source": [
    "''' print(\"Hola Mundo\") #saludo en espanhol\n",
    "\n",
    "print(\"Hello world\") #saludo en ingles\n",
    "\n",
    "print(\"Maitei arapy\") #saludo en guarani ''' \n",
    "\n",
    "#Hacer una funcion que nos permita saludar en tres idiomas\n",
    "\n",
    "def saludar(): #definir el nombre de la funcion \n",
    "    print(\"Hola Mundo\") #lineas de codigo que se ejecutan al llamar a la funcion\n",
    "    print(\"Hello world\")\n",
    "    print(\"Maitei Arapy\")\n",
    "saludar() #llamando a la funcion saludar \n",
    "\n",
    "#Hacer una funcion cocinar pizza, que permita tener los pasos para cocinar una pizza\n",
    "\n",
    "#Preparar el pan o comprar la pre-pizza\n",
    "#Cortar verduras \n",
    "#Prepar salsa o comprar \n",
    "#Rallar el queso de preferencia \n",
    "#Colocar en el horno \n",
    "#Controlar la temperatura y tiempo de coccion \n",
    "#Comer la pizza \n",
    "\n",
    "def cocinar_pizza(): \n",
    "    print(\"Preparar el pan o comprar la pre-pizza\")\n",
    "    print(\"Cortar verduras\") \n",
    "    print(\"Prepar salsa o comprar\") \n",
    "    print('Rallar el queso de preferencia') \n",
    "    print(\"Comer la pizza\") \n",
    "cocinar_pizza()\n"
   ]
  },
  {
   "cell_type": "markdown",
   "metadata": {},
   "source": [
    "## Challenge \n",
    "\n",
    "Crear una función de un proceso que se les ocurra que tenga varios pasos.\n",
    "Ejecutar la función 3 veces."
   ]
  },
  {
   "cell_type": "code",
   "execution_count": 75,
   "metadata": {},
   "outputs": [
    {
     "name": "stdout",
     "output_type": "stream",
     "text": [
      "          Pasos de postulación a Penguin Academy\n",
      "\n",
      "1- Buscar el link de postulación en la web de Penguin Academy.\n",
      "2- Leer la consigna.\n",
      "3- Completar todos los campos con los datos requeridos.\n",
      "4- Oprimir el botón enviar.\n",
      "5- Aguardar el resultado de la postulación.\n",
      "\n",
      "          Pasos de postulación a Penguin Academy\n",
      "\n",
      "1- Buscar el link de postulación en la web de Penguin Academy.\n",
      "2- Leer la consigna.\n",
      "3- Completar todos los campos con los datos requeridos.\n",
      "4- Oprimir el botón enviar.\n",
      "5- Aguardar el resultado de la postulación.\n",
      "\n",
      "          Pasos de postulación a Penguin Academy\n",
      "\n",
      "1- Buscar el link de postulación en la web de Penguin Academy.\n",
      "2- Leer la consigna.\n",
      "3- Completar todos los campos con los datos requeridos.\n",
      "4- Oprimir el botón enviar.\n",
      "5- Aguardar el resultado de la postulación.\n",
      "\n"
     ]
    }
   ],
   "source": [
    "def postular_a_penguin(): \n",
    "#para definir una función no olvidar poner paréntesis() y dos puntos:\n",
    "    print (\"          Pasos de postulación a Penguin Academy\")\n",
    "    print (  )\n",
    "    print (\"1- Buscar el link de postulación en la web de Penguin Academy.\")\n",
    "    print (\"2- Leer la consigna.\")\n",
    "    print (\"3- Completar todos los campos con los datos requeridos.\")\n",
    "    print (\"4- Oprimir el botón enviar.\")\n",
    "    print (\"5- Aguardar el resultado de la postulación.\")\n",
    "    print (  )\n",
    "\n",
    "\n",
    "postular_a_penguin() #para llamar a la función escribir su nombre seguido de paréntesis.\n",
    "\n",
    "postular_a_penguin()\n",
    "\n",
    "postular_a_penguin()"
   ]
  }
 ],
 "metadata": {
  "kernelspec": {
   "display_name": "Python 3.10.4 64-bit",
   "language": "python",
   "name": "python3"
  },
  "language_info": {
   "codemirror_mode": {
    "name": "ipython",
    "version": 3
   },
   "file_extension": ".py",
   "mimetype": "text/x-python",
   "name": "python",
   "nbconvert_exporter": "python",
   "pygments_lexer": "ipython3",
   "version": "3.10.4"
  },
  "orig_nbformat": 4,
  "vscode": {
   "interpreter": {
    "hash": "aee8b7b246df8f9039afb4144a1f6fd8d2ca17a180786b69acc140d282b71a49"
   }
  }
 },
 "nbformat": 4,
 "nbformat_minor": 2
}
