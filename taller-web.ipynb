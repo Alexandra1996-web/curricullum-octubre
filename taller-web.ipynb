{
 "cells": [
  {
   "cell_type": "markdown",
   "metadata": {},
   "source": [
    "# Repositorio Taller Web\n",
    "\n",
    "https://rickandmortyapi.com/api/character (API Rick and Morty)\n",
    "\n",
    "\n",
    "https://github.com/kedavema/rick-and-morty-flask (GitHub repo)"
   ]
  }
 ],
 "metadata": {
  "language_info": {
   "name": "python"
  },
  "orig_nbformat": 4
 },
 "nbformat": 4,
 "nbformat_minor": 2
}
