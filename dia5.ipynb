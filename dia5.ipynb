{
 "cells": [
  {
   "cell_type": "markdown",
   "metadata": {},
   "source": [
    "# Diccionarios \n",
    "\n",
    "Un diccionario es una coleccion de pares formados por una claves (ejemplo: es la palabra) y un valor (el significado).\n",
    "\n",
    "Sintaxis de los diccionarios a diferencia de las listas: \n",
    "\n",
    "{} llaves y la separacion de pares ocurre por medio de la coma , \n",
    "\n"
   ]
  },
  {
   "cell_type": "code",
   "execution_count": 9,
   "metadata": {},
   "outputs": [
    {
     "name": "stdout",
     "output_type": "stream",
     "text": [
      "{'heladera': 'Tokio', 'microondas': 'Midas', 'cafetera': 'Espeso'}\n",
      "<class 'dict'>\n",
      "Tokio\n",
      "Espeso\n",
      "{'heladera': 'Tokio', 'microondas': 'Midas', 'cafetera': 'Cortado'}\n",
      "{'heladera': 'Tokio', 'microondas': 'Midas', 'cafetera': 'Cortado', 'Mixtera': 'Mixto jamon y queso'}\n",
      "{'heladera': 'Tokio', 'microondas': 'Midas', 'cafetera': 'Cortado'}\n",
      "{'heladera': 'Tokio', 'cafetera': 'Cortado'}\n"
     ]
    }
   ],
   "source": [
    "diccionari_vacio = {} #diccionario vacio, no tiene nada dentro de las llaves \n",
    "mi_cafeteria = {\"heladera\":\"Tokio\", \"microondas\":\"Midas\", \"cafetera\":\"Espeso\"}\n",
    "#esto es un diccionario \n",
    "\n",
    "mi_aula = {\"televisor\":\"Tokio\", \"computadora1\":\"Mac\", \"computadora2\":\"Hp\"}\n",
    "\n",
    "print(mi_cafeteria) #imprimimos el diccionario completo \n",
    "print(type(mi_cafeteria)) #verificamos que tipo de dato es mi_cafeteria \n",
    "\n",
    "#acceder a elementos de un diccionario \n",
    "\n",
    "print(mi_cafeteria[\"heladera\"]) #accedimos al valor de heladera por medio de la clave heladera\n",
    "print(mi_cafeteria[\"cafetera\"])\n",
    "\n",
    "#reasignar o actualizar el valor de mi diccionario \n",
    "\n",
    "mi_cafeteria[\"cafetera\"] = \"Cortado\"\n",
    "\n",
    "print(mi_cafeteria)\n",
    "\n",
    "#anhadir datos al diccionario \n",
    "\n",
    "mi_cafeteria[\"Mixtera\"] = \"Mixto jamon y queso\"\n",
    "\n",
    "print(mi_cafeteria)\n",
    "\n",
    "#eliminar el ultimo par de datos, en este caso elimino mixtera con jamon y queso\n",
    "mi_cafeteria.popitem()\n",
    "print(mi_cafeteria)\n",
    "\n",
    "#eliminar por medio de la clave \n",
    "\n",
    "del mi_cafeteria[\"microondas\"]\n",
    "print(mi_cafeteria)\n",
    "\n",
    "\n",
    "\n",
    "lista_modelo = [\"Alexandra\", \"Valeria\", \"Ceci\"]\n",
    "\n",
    "#Agenda de contactos \n",
    "#Nombre: El nombre de la persona \n",
    "#Telefono: Numero de telefono \n",
    "#Correo: El correo electronico \n",
    "\n",
    "\n"
   ]
  },
  {
   "cell_type": "markdown",
   "metadata": {},
   "source": [
    "## Challenge 1 \n",
    "\n",
    "Escribir un programa que cree un diccionario vacío y lo vaya llenado con información sobre una persona (por ejemplo nombre, edad, sexo, teléfono, correo electrónico, etc.) que se le pida al usuario. Cada vez que se añada un nuevo dato debe imprimirse el contenido del diccionario."
   ]
  },
  {
   "cell_type": "code",
   "execution_count": null,
   "metadata": {},
   "outputs": [],
   "source": [
    "# Crear un diccionario diccionario_vario = .....pista\n",
    "# Informacion, nombre, edad, sexo ---> clave pero nos falta tambien el valor \n",
    "# Usar forma para anhadir al diccionario \n",
    "# usuario interaccion: input \n",
    "# print al diccionario \n",
    "# Utilizar un ciclo while pistas \n"
   ]
  },
  {
   "cell_type": "code",
   "execution_count": null,
   "metadata": {},
   "outputs": [],
   "source": [
    "# Solucion del Challenge 1 - Wendy \n",
    "\n",
    "dicionario_vacio = {} #este es mi dicionario vacio en done voy a agregar info\n",
    "while True: #para que pregunte infinitamente\n",
    "    datos_personales = {\"nombre\": input(\"ingrese el nombre por favor\")} #aca le pedi que ingrese un valor (\"nombre\" es mi clave y con input yo establezco el valor)\n",
    "\n",
    "    datos_personales [\"edad\"] = int(input(\"ingrese tu edad por favar\")) #para aggregar mas valores \n",
    "    print(datos_personales)\n",
    "\n",
    "    datos_personales [\"sexo\"] = input(\"ingrese tu sexo\")\n",
    "    print(datos_personales)\n",
    "    break #para que pare de solicitar"
   ]
  },
  {
   "cell_type": "code",
   "execution_count": 10,
   "metadata": {},
   "outputs": [
    {
     "name": "stdout",
     "output_type": "stream",
     "text": [
      "{'nombre': 'Alexandra '}\n",
      "{'nombre': 'Alexandra ', 'edad': '26'}\n",
      "{'nombre': 'Alexandra ', 'edad': '26', 'sexo': 'femenino'}\n",
      "{'nombre': 'Alexandra ', 'edad': '26', 'sexo': 'femenino', 'telefono': '0985279404'}\n",
      "{'nombre': 'Alexandra ', 'edad': '26', 'sexo': 'femenino', 'telefono': '0985279404', 'correo electronico': 'alexcaceres'}\n",
      "{'nombre': 'Alexandra ', 'edad': '26', 'sexo': 'femenino', 'telefono': '0985279404', 'correo electronico': 'alexcaceres', 'dirección': 'san lorenzo '}\n"
     ]
    }
   ],
   "source": [
    "#Solucion Ivonne \n",
    "\n",
    "diccionario_persona={}\n",
    "informacion=[\"nombre\",\"edad\",\"sexo\",\"telefono\",\"correo electronico\",\"dirección\"]\n",
    "\n",
    "for elemento in informacion:\n",
    "    diccionario_persona[elemento]=input(\"ingresar \"+elemento)\n",
    "    print(diccionario_persona)"
   ]
  },
  {
   "cell_type": "code",
   "execution_count": 11,
   "metadata": {},
   "outputs": [
    {
     "name": "stdout",
     "output_type": "stream",
     "text": [
      "{}\n",
      "{'nombre': 'alexandra '}\n",
      "{'nombre': 'alexandra ', 'edad ': '26 '}\n"
     ]
    }
   ],
   "source": [
    "# Solucion de Carmen \n",
    "\n",
    "Agenda_cool = {} #diccionario\n",
    "#{\"Nombre\":\"Fernando\", \"edad\":44, \"sexo\":\"masculino\", \"email\":\"feralfire@gmail.com\", \"profesion\":\"tester\"}\n",
    "#input(\"nombre\") \n",
    "###Agenda_cool[clave] = valor #clave es el tipo de dato\n",
    "print(Agenda_cool)\n",
    "while True:\n",
    "    clave = input(\"clave\")\n",
    "    if clave == \"0\":\n",
    "        break \n",
    "    else:\n",
    "        valor = input(\"valor\")\n",
    "        Agenda_cool[clave] = valor #clave es el tipo de dato\n",
    "        print(Agenda_cool)"
   ]
  },
  {
   "cell_type": "code",
   "execution_count": 12,
   "metadata": {},
   "outputs": [
    {
     "name": "stdout",
     "output_type": "stream",
     "text": [
      "{'nombre': 'alexandra '}\n",
      "{'nombre': 'alexandra ', 'apellido ': 'caceres '}\n"
     ]
    }
   ],
   "source": [
    "#Solucion de Lara\n",
    "\n",
    "newperson = {}\n",
    "max_length = int(input(\"cuantos datos queres ingresar\"))\n",
    "\n",
    "while len(newperson) < max_length:\n",
    "    \n",
    "    key1 = input(\"Qual es primer tipo dato que queres ingresar?\")\n",
    "    value1 = input(\"Cual es el valor del primer dato?\")\n",
    "\n",
    "    newperson[key1] = value1\n",
    "    print(newperson)\n"
   ]
  },
  {
   "cell_type": "markdown",
   "metadata": {},
   "source": [
    "\n",
    "# Challenge 2 \n",
    "\n",
    "\n",
    "Crear una tarjeta personal. El usuario (mediante input) puede elegir:\n",
    "\n",
    "1. Crear datos nuevos\n",
    "2. Modificar datos\n",
    "3. Eliminar datos"
   ]
  },
  {
   "cell_type": "code",
   "execution_count": 13,
   "metadata": {},
   "outputs": [
    {
     "name": "stdout",
     "output_type": "stream",
     "text": [
      "{'nombre': 'lara'}\n",
      "{'nombre': 'lara', 'apellido': 'sss'}\n",
      "esta es tu tarjeta modificada {'nombre': 'lara', 'apellido': 'v'}\n",
      "esta es tu tarjeta modificada {'apellido': 'v'}\n",
      "esta es tu tarjeta final {'apellido': 'v'}\n"
     ]
    }
   ],
   "source": [
    "# Solucion de Lara\n",
    "\n",
    "newperson = {}\n",
    "while True:\n",
    "    changetype = input(\"Para agregar otro item, apreta 1. Para modificar un item, apreta 2. Para eliminar un item, apreta 3. Si queres salir, apreta 0\")\n",
    "    if changetype == \"1\":\n",
    "        keyadd = input(\"Qual es tipo de dato que queres ingresar?\")\n",
    "        valueadd = input(\"Cual es el valor del dato?\")\n",
    "        newperson[keyadd] = valueadd\n",
    "        print(newperson)\n",
    "        continue #continuo pasa a la siguiente ejecucion --> palabra reservada \n",
    "    if changetype == \"2\":\n",
    "        keymod = input(\"cual dato queres modificar? (ingresar que tipo de dato queres modificar)\")\n",
    "        valuemod = input(\"cual es el nuevo valor?\")\n",
    "        newperson[keymod] = valuemod\n",
    "        print(\"esta es tu tarjeta modificada\", newperson)\n",
    "        continue\n",
    "    if changetype == \"3\":\n",
    "        keydel = input(\"cual dato queres eliminar? (ingresar que tipo de dato queres eliminar)\")\n",
    "        newperson.pop(keydel)\n",
    "        print(\"esta es tu tarjeta modificada\", newperson)\n",
    "        continue\n",
    "    if changetype == \"0\":\n",
    "        print(\"esta es tu tarjeta final\", newperson)\n",
    "        break\n"
   ]
  },
  {
   "cell_type": "code",
   "execution_count": 14,
   "metadata": {},
   "outputs": [
    {
     "name": "stdout",
     "output_type": "stream",
     "text": [
      "{'nombre': 'ivonne'}\n",
      "{'nombre': 'ivonne', 'apellido ': 'alivieres'}\n",
      "el dato no existe, no se puede modificar\n",
      "el dato no existe, no se puede modificar\n",
      "input inválido\n",
      "{'nombre': 'ivonne', 'apellido ': 'libieres'}\n"
     ]
    }
   ],
   "source": [
    "#Solucion de Ivonne \n",
    "\n",
    "diccionario_persona={}\n",
    "\n",
    "while True:\n",
    "    deseo_usuario=input(\"Que desea hacer? Escriba crear, modificar, eliminar o terminar\")\n",
    "    if deseo_usuario == \"crear\":\n",
    "        clave1=input(\"que dato desea crear?\")\n",
    "        valor1=input(clave1)\n",
    "        diccionario_persona[clave1]=valor1\n",
    "        print(diccionario_persona)\n",
    "\n",
    "\n",
    "    elif deseo_usuario == \"modificar\":\n",
    "        clave2=input(\"que dato desea modificar?\")\n",
    "        if clave2 in diccionario_persona:\n",
    "            valor2=input(clave2)\n",
    "            diccionario_persona[clave2]=valor2\n",
    "            print(diccionario_persona)\n",
    "            \n",
    "        else:\n",
    "            print(\"el dato no existe, no se puede modificar\")\n",
    "            \n",
    "\n",
    "\n",
    "    elif deseo_usuario == \"eliminar\":\n",
    "        clave3=input(\"que dato desea eliminar?\")\n",
    "        del diccionario_persona[clave3]\n",
    "    \n",
    "    elif deseo_usuario==\"terminar\":\n",
    "        break\n",
    "\n",
    "    else:\n",
    "        print(\"input inválido\") "
   ]
  },
  {
   "cell_type": "code",
   "execution_count": 15,
   "metadata": {},
   "outputs": [
    {
     "name": "stdout",
     "output_type": "stream",
     "text": [
      "{'nombre': 'rosario'}\n",
      "{'nombre': 'rosario', 'apellido': 'sanchez'}\n",
      "{'nombre': 'rosario', 'apellido': 'gonzalez'}\n",
      "{'apellido': 'gonzalez'}\n"
     ]
    }
   ],
   "source": [
    "# solucion de Rosario \n",
    "\n",
    "tarjeta_personal={}\n",
    "pregunta = input(\"queres guardar un dato nuevo\")\n",
    "while pregunta == \"si\":\n",
    "    clave = input (\"ingresar dato\")\n",
    "    valor = input (clave)\n",
    "    tarjeta_personal[clave] = valor \n",
    "    print (tarjeta_personal)\n",
    "    pregunta = input (\"queres guardar un dato nuevo\")\n",
    "\n",
    "pregunta2 = input (\"queres modificar un dato\")\n",
    "while pregunta2 == \"si\": \n",
    "    clave_a_modificar = input(\"que clave desea modificar\")\n",
    "    valor_nuevo = input (clave_a_modificar)\n",
    "    tarjeta_personal[clave_a_modificar] = valor_nuevo\n",
    "    print (tarjeta_personal )\n",
    "    pregunta2 = input (\"queres modificar algun dato\")\n",
    "\n",
    "pregunta3 = input (\"eliminar dato\")\n",
    "while pregunta3 == \"si\": \n",
    "    clave_a_eliminar = input(\"que clave desea eliminar\")\n",
    "    del tarjeta_personal[clave_a_eliminar]\n",
    "    print (tarjeta_personal )\n",
    "    pregunta3 = input (\"queres eliminar algun dato\")"
   ]
  },
  {
   "cell_type": "code",
   "execution_count": 16,
   "metadata": {},
   "outputs": [
    {
     "name": "stdout",
     "output_type": "stream",
     "text": [
      "{'apellido': 'benitez'}\n",
      "{'apellido': 'britez'}\n",
      "{}\n"
     ]
    }
   ],
   "source": [
    "#Solucion de Ara\n",
    "\n",
    "tarjeta_personal={}\n",
    "usuario=int(input(\"1,crear datos,2modificar, 3eliminar, 4salir\"))\n",
    "while True:\n",
    "    if usuario==1:\n",
    "        clave=input(\"que desea agregar\")\n",
    "        valor= input(clave)\n",
    "        tarjeta_personal[clave]=valor\n",
    "        print(tarjeta_personal)\n",
    "        usuario=int(input(\"1,crear datos,2,modificar, 3, eliminar, 4,salir\"))\n",
    "    elif usuario==2:\n",
    "        clave=input(\"que desea modificar\")\n",
    "        valor= input(clave)\n",
    "        tarjeta_personal[clave]=valor\n",
    "        print(tarjeta_personal)\n",
    "        usuario=int(input(\"1,crear datos,2,modificar, 3, eliminar, 4,salir\"))\n",
    "    elif usuario==3:\n",
    "        clave=input(\"que desea eliminar\")\n",
    "        del tarjeta_personal[clave]\n",
    "        print(tarjeta_personal)\n",
    "        usuario=int(input(\"1,crear datos,2,modificar, 3, eliminar, 4,salir\"))\n",
    "    elif usuario==4:\n",
    "        break"
   ]
  },
  {
   "cell_type": "code",
   "execution_count": 19,
   "metadata": {},
   "outputs": [],
   "source": [
    "#solucion de Monse \n",
    "\n",
    "tarjeta_personal={}\n",
    "while True:\n",
    "    opcion= input (\"ingrese la opcion: 1 para agregar, 2 para modificar, 3 para elimnar items de tu tarjeta, colocar 0 para salir\")\n",
    "    if opcion == \"1\": #si mi opcion es 1 crea datos nuevos \n",
    "        dato_clave= input (\"asignar campos para su tarjeta personal\")\n",
    "        dato_valor= input (\"ingrese su valor\")\n",
    "        tarjeta_personal [dato_clave]= dato_valor\n",
    "        print (tarjeta_personal)\n",
    "    elif opcion == \"2\":\n",
    "        #para modificar el datos\n",
    "        dato_clave_cambio= input (\" que campo quiere modificar?\")\n",
    "        dato_valor_cambio= input (\"ingrese su valor\")\n",
    "        tarjeta_personal [dato_clave_cambio]= dato_valor_cambio\n",
    "        print (tarjeta_personal)\n",
    "\n",
    "\n",
    "    #para eliminar \n",
    "    elif opcion == \"3\":\n",
    "        dato_clave_eliminar= input (\"que campo quieres eliminar\")\n",
    "        del tarjeta_personal [dato_clave_eliminar] \n",
    "        print (tarjeta_personal)\n",
    "\n",
    "    else:\n",
    "        break"
   ]
  },
  {
   "cell_type": "code",
   "execution_count": 20,
   "metadata": {},
   "outputs": [
    {
     "name": "stdout",
     "output_type": "stream",
     "text": [
      "{'nombre': 'tania'}\n",
      "{'nombre': 'tania', 'apellido': 'mendoza'}\n",
      "{'nombre': 'tania', 'apellido': 'olmedo'}\n",
      "{'apellido': 'olmedo'}\n"
     ]
    }
   ],
   "source": [
    "#Solucion de Tania \n",
    "\n",
    "tarjeta_personal={}\n",
    "while True:\n",
    "    que_hacer= input(\"Que quieres hacer,si quieres 1 crear, 2 modificar, 3 eliminar\")\n",
    "    if que_hacer == \"1\":\n",
    "        clave= input(\"introduzca que dato quieres\")\n",
    "        valor= input(clave + \":\")\n",
    "        tarjeta_personal[clave]= valor\n",
    "        print(tarjeta_personal)\n",
    "    elif que_hacer == \"2\":\n",
    "        clave= input(\"ingresa otro tipo de dato\")\n",
    "        valor=input(\"ingresa el valor\")\n",
    "        tarjeta_personal[clave] = valor\n",
    "        print(tarjeta_personal)\n",
    "    #elif que_hacer == \"3\":\n",
    "        #tarjeta_personal.popitem()\n",
    "        #print(tarjeta_personal)\n",
    "        #break #agregamos el break dentro del elif para que termine aqui\n",
    "    elif que_hacer == \"3\":\n",
    "        clave= input(\"ingrese el dato que quiere eliminar\")\n",
    "        del tarjeta_personal [clave]\n",
    "        print(tarjeta_personal)\n",
    "    else:\n",
    "        break"
   ]
  },
  {
   "cell_type": "markdown",
   "metadata": {},
   "source": [
    "# Objetos \n",
    "\n"
   ]
  },
  {
   "cell_type": "markdown",
   "metadata": {},
   "source": [
    "Python nos permite representar cosas del mundo real por medio de estructuras de datos llamadas objetos. \n",
    "Atributos = caracteristicas>\n",
    "atributo de clase = ejemplo mascotas son mamiferos  \n",
    "atributo de instancia = propios de un objeto en especifico\n"
   ]
  },
  {
   "cell_type": "code",
   "execution_count": 26,
   "metadata": {},
   "outputs": [
    {
     "name": "stdout",
     "output_type": "stream",
     "text": [
      "michi\n",
      "2\n",
      "siames\n",
      "amarillo\n",
      "labrador\n",
      "<__main__.Mascota object at 0x108512020>\n"
     ]
    }
   ],
   "source": [
    "class Mascota: # crear mi clase Mascota por medio de la palabra reservada class \n",
    "    ojos = 2 #atributo de clase\n",
    "    boca = 1 #atributo de clase \n",
    "#metodo constructor __init__ y un parametro especial self \n",
    "    def __init__(self, nombre, raza, color): # inicializa la clase y le asignamos atributos de instancia \n",
    "        self.nombre = nombre \n",
    "        self.raza = raza \n",
    "        self.color = color \n",
    "#crear mi objeto \n",
    "\n",
    "mi_gato = Mascota(\"michi\",\"siames\",\"blanco\") #creo mi objeto y le paso los atributos especificos del obj. instancia\n",
    "mi_perro = Mascota(\"rex\", \"labrador\", \"amarillo\") #creo mi objeto y le paso los atributos especificos del obj. instancia\n",
    "\n",
    "print(mi_gato.nombre)\n",
    "print(mi_gato.ojos)\n",
    "print(mi_gato.raza)\n",
    "\n",
    "print(mi_perro.color)\n",
    "print(mi_perro.raza)\n",
    "\n",
    "print(mi_perro)"
   ]
  },
  {
   "cell_type": "markdown",
   "metadata": {},
   "source": [
    "## Challenge \n",
    "\n",
    "Crear dos class de animales que tengan atributos de clase y de instancia.\n",
    "\n",
    "- Atributos de clase: `especie`.\n",
    "- Atributos de instancia: `nombre` & `color`."
   ]
  },
  {
   "cell_type": "code",
   "execution_count": 27,
   "metadata": {},
   "outputs": [
    {
     "name": "stdout",
     "output_type": "stream",
     "text": [
      "Piplup\n",
      "negro y blanco\n",
      "Rex\n",
      "golden\n"
     ]
    }
   ],
   "source": [
    "#Solucion de Vale \n",
    "\n",
    "class Pinguino: \n",
    "    especie = \"ave\" \n",
    "    def __init__(self, nombre, color): \n",
    "        self.nombre = nombre\n",
    "        self.color = color\n",
    "mi_animal1 = Pinguino (\"Piplup\",\"negro y blanco\") \n",
    "print(mi_animal1.nombre) \n",
    "print(mi_animal1.color)\n",
    "\n",
    "class Perro: \n",
    "    especie = \"canino\" \n",
    "    def __init__(self, nombre, color): \n",
    "        self.nombre = nombre\n",
    "        self.color = color\n",
    "mi_animal2 = Perro (\"Rex\",\"golden\") \n",
    "print(mi_animal2.nombre) \n",
    "print(mi_animal2.color)\n"
   ]
  },
  {
   "cell_type": "code",
   "execution_count": 28,
   "metadata": {},
   "outputs": [
    {
     "name": "stdout",
     "output_type": "stream",
     "text": [
      "Este tipo de pájaro es un Pinguino y vive en Antarctica\n",
      "este pajaro puede nadar? True\n",
      "su piel está protejida por plumas y es un animal omnivoro\n",
      "Este tipo de pájaro es un loro y vive en Amazon\n",
      "este pajaro puede nadar? False\n",
      "su piel está protejida por plumas y es un animal omnivoro\n",
      "Este tipo de gato es un gato casero y vive en todos los continentes\n",
      "Este gato es amistoso? True\n",
      "Este tipo de gato es un(a) Panther y vive en Africa\n",
      "Este gato es amistoso? False\n"
     ]
    }
   ],
   "source": [
    "# Solucion de Lara \n",
    "\n",
    "class Bird: #classes are written with mayuscula\n",
    "    friendlyspecies = False\n",
    "    canwalk = True\n",
    "    skin = \"plumas\"\n",
    "    feedtype = \"omnivoro\"\n",
    "    reproduction = \"oviparo\"\n",
    "\n",
    "    def __init__ (self, classification, location, canswim, canfly):\n",
    "        self.classification = classification\n",
    "        self.location = location\n",
    "        self.canswim = canswim\n",
    "        self.canfly = canfly\n",
    "\n",
    "my_bird = Bird (\"Pinguino\", \"Antarctica\", True, False)\n",
    "print(\"Este tipo de pájaro es un\", my_bird.classification, \"y vive en\", my_bird.location)\n",
    "print(\"este pajaro puede nadar?\", my_bird.canswim)\n",
    "print(\"su piel está protejida por\", my_bird.skin, \"y es un animal\", my_bird.feedtype)\n",
    "\n",
    "other_bird = Bird (\"loro\", \"Amazon\", False, True)\n",
    "print(\"Este tipo de pájaro es un\", other_bird.classification, \"y vive en\", other_bird.location)\n",
    "print(\"este pajaro puede nadar?\", other_bird.canswim)\n",
    "print(\"su piel está protejida por\", other_bird.skin, \"y es un animal\", other_bird.feedtype)\n",
    "\n",
    "\n",
    "class Cat: #classes are written with mayuscula\n",
    "    canfly = False\n",
    "    canwalk = True\n",
    "    canswim = False\n",
    "    skin = \"pelaje\"\n",
    "    feedtype = \"carnivoro\"\n",
    "    reproduction = \"mamifero\"\n",
    "\n",
    "    def __init__ (self, classification, isfriendly, locations):\n",
    "        self.classification = classification\n",
    "        self.isfriendly = isfriendly\n",
    "        self.locations = locations \n",
    "\n",
    "my_cat = Cat (\"gato casero\", True, \"todos los continentes\")\n",
    "print(\"Este tipo de gato es un\", my_cat.classification, \"y vive en\", my_cat.locations)\n",
    "print(\"Este gato es amistoso?\", my_cat.isfriendly)\n",
    "\n",
    "wild_cat = Cat (\"Panther\", False, \"Africa\")\n",
    "print(\"Este tipo de gato es un(a)\", wild_cat.classification, \"y vive en\", wild_cat.locations)\n",
    "print(\"Este gato es amistoso?\", wild_cat.isfriendly)"
   ]
  },
  {
   "cell_type": "code",
   "execution_count": 30,
   "metadata": {},
   "outputs": [
    {
     "name": "stdout",
     "output_type": "stream",
     "text": [
      "Alex\n",
      "2\n",
      "Yogui\n",
      "marron\n"
     ]
    }
   ],
   "source": [
    "class Salvajes:\n",
    "    ojos = 2\n",
    "    nariz = 1\n",
    "    garras = 4\n",
    "    def __init__ (self,nombre, color):\n",
    "        self.nombre = nombre\n",
    "        self.color = color\n",
    "\n",
    "leon = Salvajes (\"Alex\",\"amarillo\")\n",
    "oso = Salvajes (\"Yogui\", \"marron\")\n",
    "\n",
    "print (leon.nombre)\n",
    "print (leon.ojos)\n",
    "\n",
    "print (oso.nombre)\n",
    "print (oso.color)"
   ]
  },
  {
   "cell_type": "markdown",
   "metadata": {},
   "source": [
    "# Metodos \n",
    "\n",
    "Metodos le dan funcionalidad al objeto. \n",
    "\n"
   ]
  },
  {
   "cell_type": "code",
   "execution_count": 40,
   "metadata": {},
   "outputs": [
    {
     "name": "stdout",
     "output_type": "stream",
     "text": [
      "Estoy caminando\n",
      "2\n",
      "Comi 2 kg de purina\n"
     ]
    }
   ],
   "source": [
    "class Mascota:\n",
    "    ojos = 2 #atributo de clase \n",
    "\n",
    "    def __init__(self, nombre): #init inicializa la clase atributo de instancia \n",
    "        self.nombre = nombre \n",
    "    #funcion sin definir parametros y argumentos \n",
    "\n",
    "    def caminar(self): #funcion a la que no le pasamos argumentos --> metodo = funcionalidades \n",
    "        print(\"Estoy caminando\") # imprimir Estoy caminando \n",
    "    #funcion definiendo con parametros y argumentos \n",
    "\n",
    "    def comer(self, kg_de_comida, comida): # --> metodo = funcionalidades  \n",
    "        print(\"Comi\",  kg_de_comida, \"kg de \" + comida)\n",
    "\n",
    "mi_mascota_gato = Mascota(\"Paco\") # creando el objeto, mi_mascota_gato \n",
    "\n",
    "mi_mascota_gato.caminar() #accedemos al metodo caminar \n",
    "print(mi_mascota_gato.ojos)\n",
    "mi_mascota_gato.comer(2, \"purina\") # le pase los argumentos a la funcion comer \n",
    "\n"
   ]
  },
  {
   "cell_type": "markdown",
   "metadata": {},
   "source": [
    "## Challenge\n",
    "Crear dos métodos por animal, que sea hablar y moverse.\n",
    "\n",
    "En el método hablar, imprimir: \"Cuando hablo, digo X\".\n",
    "En el método mover, imprimir: \"Cuando me muevo, hago X\".\n",
    "\n",
    "X debe ser algo específico de ese animal"
   ]
  },
  {
   "cell_type": "code",
   "execution_count": 42,
   "metadata": {},
   "outputs": [
    {
     "name": "stdout",
     "output_type": "stream",
     "text": [
      "Cuando hablo digo miau\n",
      "None\n",
      "2\n",
      "Cuando me muevo aranho\n",
      "None\n"
     ]
    }
   ],
   "source": [
    "# solucion de Rosario \n",
    "\n",
    "class Mascota:\n",
    "    ojos = 2\n",
    "    def __init__(self,nombre):\n",
    "        self.nombre = nombre\n",
    "\n",
    "    def hablar (self):\n",
    "        print (\"Cuando hablo digo miau\") #aca ya tenemos un print dentro de la funcion\n",
    "\n",
    "    def moverse (self):\n",
    "        print (\"Cuando me muevo aranho\")\n",
    "mi_mascota_gatito = Mascota (\"Michi\")\n",
    "print (mi_mascota_gatito.hablar())\n",
    "print (mi_mascota_gatito.ojos)\n",
    "print (mi_mascota_gatito.moverse())"
   ]
  },
  {
   "cell_type": "code",
   "execution_count": 43,
   "metadata": {},
   "outputs": [
    {
     "name": "stdout",
     "output_type": "stream",
     "text": [
      "lobo\n",
      "estoy caminando\n",
      "moverse\n",
      "comi 2 kg de  comida\n"
     ]
    }
   ],
   "source": [
    "#solucion de Rosalia \n",
    "\n",
    "class Mascotas:\n",
    "    ojos = 2 \n",
    "    def __init__ (self,nombre):\n",
    "        self.nombre = nombre\n",
    "    def caminar (self):\n",
    "        print(\"estoy caminando\")\n",
    "    def comer(self,kg_de_comida,comida):\n",
    "        print(\"comi\" , kg_de_comida , \"kg de \" , comida)\n",
    "    def bailar(self):\n",
    "        print(\"moverse\")\n",
    "lobo = Mascotas (\"lobo\") \n",
    "print(lobo.nombre)   \n",
    "lobo.caminar()\n",
    "lobo.bailar()\n",
    "lobo.comer( 2 ,\"comida\")"
   ]
  },
  {
   "cell_type": "code",
   "execution_count": null,
   "metadata": {},
   "outputs": [],
   "source": [
    "class Caballos: #crear mi clase\n",
    "    ojos=2 #atributo de clase, que es especifico y no cambia en cada animal\n",
    "    nariz=1\n",
    "    patas=4\n",
    "    ##metodo constructorinit y un parametro especial self\n",
    "    def __init__(self,nombre, raza, color, peso, edad):\n",
    "        self.nombre=nombre\n",
    "        self.raza=raza\n",
    "        self.color=color\n",
    "        self.peso= peso\n",
    "        self.edad= edad\n",
    "    def hablar(self):\n",
    "        print(\"Cuando hablo digo:blu blu\")\n",
    "    def mover( self, movimiento):\n",
    "        print(\"muevo mi cola\" + movimiento)\n",
    "##crear mi objeto\n",
    "mi_caballo=Caballos(\"negro\",\" pura sangre\", \" negro\",\" 500 kg\", \" 15\") #creo mi objeto y le paso atributos\n",
    "\n",
    "print(\"el nombre de mi caballo es \"+ mi_caballo.nombre)\n",
    "print(\"la raza de mi caballo es\" + mi_caballo.raza)\n",
    "print(\"el color de mi caballo es\" +mi_caballo.color)\n",
    "print(\"el peso de mi caballo es\" +mi_caballo.peso)\n",
    "print(\"la edad de mi caballo es\" +mi_caballo.edad)\n",
    "mi_caballo.hablar()\n",
    "mi_caballo.mover(\" rapido\")\n",
    "print(\"                                                                             \")\n",
    "class pinguinos: #crear mi clase\n",
    "    ojos=2 #atributo de clase, que es especifico y no cambia en cada animal\n",
    "    nariz=1\n",
    "    alas=2\n",
    "    pico=2\n",
    "    patas=2\n",
    "    ##metodo constructorinit y un parametro especial self\n",
    "    def __init__(self,nombre, especie, color, peso, edad): #\n",
    "        self.nombre=nombre\n",
    "        self.especie=especie\n",
    "        self.color=color\n",
    "        self.peso= peso\n",
    "        self.edad= edad\n",
    "    def hablar(self): #funcion a la que no le pasamos argumentos metodo funcional\n",
    "        print(\"Cuando hablo digo:pi pi\")\n",
    "    def mover( self, movimientos):#funcion a la que si le pasamos argumentos\n",
    "        print(\"muevo mi colita y mis alitas\" +movimientos)\n",
    "##crear mi objeto\n",
    "mi_pinguino=pinguinos(\"pingui\",\" pinguino emperador\", \" blanco, negro y un poco de amarillo\",\" 25 kg\", \" 20 anhos\") #creo mi objeto y le paso atributos\n",
    "\n",
    "print(\"el nombre de mi pinguino es:\" +mi_pinguino.nombre)\n",
    "print(\"la especie de mi pinguino es:\" +mi_pinguino.especie)\n",
    "print(\"el color de mi pinguino es\" + mi_pinguino.color)\n",
    "print(\"el peso de mi pinguino es\" +mi_pinguino.peso)\n",
    "print(\"la edad de mi pinguno es\" +mi_pinguino.edad)\n",
    "mi_pinguino.hablar()\n",
    "mi_pinguino.mover(\" muchas veces\")"
   ]
  },
  {
   "cell_type": "markdown",
   "metadata": {},
   "source": [
    "# Herencia \n"
   ]
  },
  {
   "cell_type": "code",
   "execution_count": 45,
   "metadata": {},
   "outputs": [
    {
     "name": "stdout",
     "output_type": "stream",
     "text": [
      "verde\n",
      "Hola soy un reptil\n"
     ]
    }
   ],
   "source": [
    "#relacion entre clases \n",
    "\n",
    "class Reptil: #creando la clase \n",
    "    tipo = \"reptil,sangre fria\" #atributo de clase \n",
    "    def __init__(self,color, sonido): #atributo de intancias color y sonido \n",
    "        self.color = color \n",
    "        self.sonido = sonido \n",
    "    #crear un metodo generico hablar \n",
    "    def hablar(self):\n",
    "        print(\"Hola soy un reptil\")\n",
    "\n",
    "class Serpiente(Reptil): #la clase madre es reptil, y la clase serpiente hereda de reptil \n",
    "    veneno = True \n",
    "\n",
    "    def arrastrarse(self):\n",
    "        print(\"Estoy arrastrandome\")\n",
    "#creacion de objetos \n",
    "mi_reptil = Reptil(\"verde\", \"tss\") #creo mi objeto \n",
    "print(mi_reptil.color) #accediendo \n",
    "mi_serpiente = Serpiente(\"amarillito\", \"zzzzzz\")\n",
    "mi_serpiente.hablar() \n"
   ]
  },
  {
   "cell_type": "markdown",
   "metadata": {},
   "source": [
    "## Challenge \n",
    "\n",
    "Definir una clase madre que herede a sus clases hijas dos atributos de instancia. Mostrar ambos atributos en pantalla desde los objetos de las clases hijas.\n",
    "\n",
    "Observación: Editar las clases hijas para que no se inicialicen."
   ]
  },
  {
   "cell_type": "code",
   "execution_count": null,
   "metadata": {},
   "outputs": [],
   "source": [
    "#Inheritance\n",
    "\n",
    "class Reptil: #classes are written with uppercase\n",
    "#class attributes\n",
    "    canfly = False\n",
    "    canwalk = True\n",
    "    skin = \"escamas\"\n",
    "    feedtype = \"carnivoro\"\n",
    "    reproduction = \"ovípero\"\n",
    "    \n",
    "    #instance attributes\n",
    "    def __init__ (self, isfriendly, locations, canswim):\n",
    "        self.isfriendly = isfriendly\n",
    "        self.locations = locations\n",
    "        self.canswim = canswim\n",
    "    #class methods\n",
    "    def talk (self):\n",
    "        print(\"Cuando hablo digo soy un reptil\")\n",
    "    def eat (self, kg_de_comida, tipo_comida):\n",
    "        print(\"Comí\", kg_de_comida, \"kg de\", tipo_comida)\n",
    "    def move (self):\n",
    "        print(\"cuando me muevo, me muevo lento\")\n",
    "\n",
    "class Serpiente(Reptil):\n",
    "    veneno = True\n",
    "    vertebra = False\n",
    "\n",
    "    def arrastrarse(self):\n",
    "        print(\"Estoy arrastrandome y digo tssss\")\n",
    "    def defensa(self, veneno, esconderse, rajar):\n",
    "        if veneno == True:\n",
    "            print (\"Te acabé de morder con mi veneno!\")\n",
    "        if esconderse == True:\n",
    "            print (\"*la serpiente se escondió*\")\n",
    "        if rajar == True:\n",
    "            print (\"*la serpiente se há escabullido*\")\n",
    "        if veneno == False and esconderse == False and rajar == False: \n",
    "            print(\"has atrapado a la serpiente\")\n",
    "  \n",
    "mi_reptil = Reptil(False, \"todos los continentes\", False)\n",
    "print(mi_reptil.canfly)\n",
    "print(mi_reptil.locations)\n",
    "\n",
    "\n",
    "mi_serpiente = Serpiente(False, \"bosques humedos\", True)\n",
    "mi_serpiente.talk()\n",
    "print(mi_serpiente.feedtype)\n",
    "print(mi_serpiente.reproduction)\n",
    "mi_serpiente.arrastrarse()\n",
    "mi_serpiente.defensa(True, False, True)"
   ]
  }
 ],
 "metadata": {
  "kernelspec": {
   "display_name": "Python 3.10.4 64-bit",
   "language": "python",
   "name": "python3"
  },
  "language_info": {
   "codemirror_mode": {
    "name": "ipython",
    "version": 3
   },
   "file_extension": ".py",
   "mimetype": "text/x-python",
   "name": "python",
   "nbconvert_exporter": "python",
   "pygments_lexer": "ipython3",
   "version": "3.10.4"
  },
  "orig_nbformat": 4,
  "vscode": {
   "interpreter": {
    "hash": "aee8b7b246df8f9039afb4144a1f6fd8d2ca17a180786b69acc140d282b71a49"
   }
  }
 },
 "nbformat": 4,
 "nbformat_minor": 2
}
