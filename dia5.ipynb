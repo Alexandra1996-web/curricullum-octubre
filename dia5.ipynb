{
 "cells": [
  {
   "cell_type": "markdown",
   "metadata": {},
   "source": [
    "# Diccionarios \n",
    "\n",
    "Un diccionario es una coleccion de pares formados por una claves (ejemplo: es la palabra) y un valor (el significado).\n",
    "\n",
    "Sintaxis de los diccionarios a diferencia de las listas: \n",
    "\n",
    "{} llaves y la separacion de pares ocurre por medio de la coma , \n",
    "\n"
   ]
  },
  {
   "cell_type": "code",
   "execution_count": 9,
   "metadata": {},
   "outputs": [
    {
     "name": "stdout",
     "output_type": "stream",
     "text": [
      "{'heladera': 'Tokio', 'microondas': 'Midas', 'cafetera': 'Espeso'}\n",
      "<class 'dict'>\n",
      "Tokio\n",
      "Espeso\n",
      "{'heladera': 'Tokio', 'microondas': 'Midas', 'cafetera': 'Cortado'}\n",
      "{'heladera': 'Tokio', 'microondas': 'Midas', 'cafetera': 'Cortado', 'Mixtera': 'Mixto jamon y queso'}\n",
      "{'heladera': 'Tokio', 'microondas': 'Midas', 'cafetera': 'Cortado'}\n",
      "{'heladera': 'Tokio', 'cafetera': 'Cortado'}\n"
     ]
    }
   ],
   "source": [
    "diccionari_vacio = {} #diccionario vacio, no tiene nada dentro de las llaves \n",
    "mi_cafeteria = {\"heladera\":\"Tokio\", \"microondas\":\"Midas\", \"cafetera\":\"Espeso\"}\n",
    "#esto es un diccionario \n",
    "\n",
    "mi_aula = {\"televisor\":\"Tokio\", \"computadora1\":\"Mac\", \"computadora2\":\"Hp\"}\n",
    "\n",
    "print(mi_cafeteria) #imprimimos el diccionario completo \n",
    "print(type(mi_cafeteria)) #verificamos que tipo de dato es mi_cafeteria \n",
    "\n",
    "#acceder a elementos de un diccionario \n",
    "\n",
    "print(mi_cafeteria[\"heladera\"]) #accedimos al valor de heladera por medio de la clave heladera\n",
    "print(mi_cafeteria[\"cafetera\"])\n",
    "\n",
    "#reasignar o actualizar el valor de mi diccionario \n",
    "\n",
    "mi_cafeteria[\"cafetera\"] = \"Cortado\"\n",
    "\n",
    "print(mi_cafeteria)\n",
    "\n",
    "#anhadir datos al diccionario \n",
    "\n",
    "mi_cafeteria[\"Mixtera\"] = \"Mixto jamon y queso\"\n",
    "\n",
    "print(mi_cafeteria)\n",
    "\n",
    "#eliminar el ultimo par de datos, en este caso elimino mixtera con jamon y queso\n",
    "mi_cafeteria.popitem()\n",
    "print(mi_cafeteria)\n",
    "\n",
    "#eliminar por medio de la clave \n",
    "\n",
    "del mi_cafeteria[\"microondas\"]\n",
    "print(mi_cafeteria)\n",
    "\n",
    "\n",
    "\n",
    "lista_modelo = [\"Alexandra\", \"Valeria\", \"Ceci\"]\n",
    "\n",
    "#Agenda de contactos \n",
    "#Nombre: El nombre de la persona \n",
    "#Telefono: Numero de telefono \n",
    "#Correo: El correo electronico \n",
    "\n",
    "\n"
   ]
  },
  {
   "cell_type": "markdown",
   "metadata": {},
   "source": [
    "## Challenge 1 \n",
    "\n",
    "Escribir un programa que cree un diccionario vacío y lo vaya llenado con información sobre una persona (por ejemplo nombre, edad, sexo, teléfono, correo electrónico, etc.) que se le pida al usuario. Cada vez que se añada un nuevo dato debe imprimirse el contenido del diccionario."
   ]
  },
  {
   "cell_type": "code",
   "execution_count": null,
   "metadata": {},
   "outputs": [],
   "source": [
    "# Crear un diccionario diccionario_vario = .....pista\n",
    "# Informacion, nombre, edad, sexo ---> clave pero nos falta tambien el valor \n",
    "# Usar forma para anhadir al diccionario \n",
    "# usuario interaccion: input \n",
    "# print al diccionario \n",
    "# Utilizar un ciclo while pistas \n"
   ]
  },
  {
   "cell_type": "code",
   "execution_count": null,
   "metadata": {},
   "outputs": [],
   "source": [
    "# Solucion del Challenge 1 - Wendy \n",
    "\n",
    "dicionario_vacio = {} #este es mi dicionario vacio en done voy a agregar info\n",
    "while True: #para que pregunte infinitamente\n",
    "    datos_personales = {\"nombre\": input(\"ingrese el nombre por favor\")} #aca le pedi que ingrese un valor (\"nombre\" es mi clave y con input yo establezco el valor)\n",
    "\n",
    "    datos_personales [\"edad\"] = int(input(\"ingrese tu edad por favar\")) #para aggregar mas valores \n",
    "    print(datos_personales)\n",
    "\n",
    "    datos_personales [\"sexo\"] = input(\"ingrese tu sexo\")\n",
    "    print(datos_personales)\n",
    "    break #para que pare de solicitar"
   ]
  },
  {
   "cell_type": "code",
   "execution_count": 10,
   "metadata": {},
   "outputs": [
    {
     "name": "stdout",
     "output_type": "stream",
     "text": [
      "{'nombre': 'Alexandra '}\n",
      "{'nombre': 'Alexandra ', 'edad': '26'}\n",
      "{'nombre': 'Alexandra ', 'edad': '26', 'sexo': 'femenino'}\n",
      "{'nombre': 'Alexandra ', 'edad': '26', 'sexo': 'femenino', 'telefono': '0985279404'}\n",
      "{'nombre': 'Alexandra ', 'edad': '26', 'sexo': 'femenino', 'telefono': '0985279404', 'correo electronico': 'alexcaceres'}\n",
      "{'nombre': 'Alexandra ', 'edad': '26', 'sexo': 'femenino', 'telefono': '0985279404', 'correo electronico': 'alexcaceres', 'dirección': 'san lorenzo '}\n"
     ]
    }
   ],
   "source": [
    "#Solucion Ivonne \n",
    "\n",
    "diccionario_persona={}\n",
    "informacion=[\"nombre\",\"edad\",\"sexo\",\"telefono\",\"correo electronico\",\"dirección\"]\n",
    "\n",
    "for elemento in informacion:\n",
    "    diccionario_persona[elemento]=input(\"ingresar \"+elemento)\n",
    "    print(diccionario_persona)"
   ]
  },
  {
   "cell_type": "code",
   "execution_count": 11,
   "metadata": {},
   "outputs": [
    {
     "name": "stdout",
     "output_type": "stream",
     "text": [
      "{}\n",
      "{'nombre': 'alexandra '}\n",
      "{'nombre': 'alexandra ', 'edad ': '26 '}\n"
     ]
    }
   ],
   "source": [
    "# Solucion de Carmen \n",
    "\n",
    "Agenda_cool = {} #diccionario\n",
    "#{\"Nombre\":\"Fernando\", \"edad\":44, \"sexo\":\"masculino\", \"email\":\"feralfire@gmail.com\", \"profesion\":\"tester\"}\n",
    "#input(\"nombre\") \n",
    "###Agenda_cool[clave] = valor #clave es el tipo de dato\n",
    "print(Agenda_cool)\n",
    "while True:\n",
    "    clave = input(\"clave\")\n",
    "    if clave == \"0\":\n",
    "        break \n",
    "    else:\n",
    "        valor = input(\"valor\")\n",
    "        Agenda_cool[clave] = valor #clave es el tipo de dato\n",
    "        print(Agenda_cool)"
   ]
  },
  {
   "cell_type": "code",
   "execution_count": 12,
   "metadata": {},
   "outputs": [
    {
     "name": "stdout",
     "output_type": "stream",
     "text": [
      "{'nombre': 'alexandra '}\n",
      "{'nombre': 'alexandra ', 'apellido ': 'caceres '}\n"
     ]
    }
   ],
   "source": [
    "#Solucion de Lara\n",
    "\n",
    "newperson = {}\n",
    "max_length = int(input(\"cuantos datos queres ingresar\"))\n",
    "\n",
    "while len(newperson) < max_length:\n",
    "    \n",
    "    key1 = input(\"Qual es primer tipo dato que queres ingresar?\")\n",
    "    value1 = input(\"Cual es el valor del primer dato?\")\n",
    "\n",
    "    newperson[key1] = value1\n",
    "    print(newperson)\n"
   ]
  },
  {
   "cell_type": "markdown",
   "metadata": {},
   "source": [
    "\n",
    "# Challenge 2 \n",
    "\n",
    "\n",
    "Crear una tarjeta personal. El usuario (mediante input) puede elegir:\n",
    "\n",
    "1. Crear datos nuevos\n",
    "2. Modificar datos\n",
    "3. Eliminar datos"
   ]
  }
 ],
 "metadata": {
  "kernelspec": {
   "display_name": "Python 3.10.4 64-bit",
   "language": "python",
   "name": "python3"
  },
  "language_info": {
   "codemirror_mode": {
    "name": "ipython",
    "version": 3
   },
   "file_extension": ".py",
   "mimetype": "text/x-python",
   "name": "python",
   "nbconvert_exporter": "python",
   "pygments_lexer": "ipython3",
   "version": "3.10.4"
  },
  "orig_nbformat": 4,
  "vscode": {
   "interpreter": {
    "hash": "aee8b7b246df8f9039afb4144a1f6fd8d2ca17a180786b69acc140d282b71a49"
   }
  }
 },
 "nbformat": 4,
 "nbformat_minor": 2
}
