{
 "cells": [
  {
   "cell_type": "markdown",
   "metadata": {},
   "source": [
    "# Funciones y alcance de variables"
   ]
  },
  {
   "cell_type": "code",
   "execution_count": 15,
   "metadata": {},
   "outputs": [
    {
     "name": "stdout",
     "output_type": "stream",
     "text": [
      "Distancia  100\n",
      "700\n"
     ]
    }
   ],
   "source": [
    "#variables locales \n",
    "#variables globales \n",
    "\n",
    "distancia_final = 600 \n",
    "\n",
    "#Funcion avanzar que hace referencia a un recorrido en movil hasta San Lorenzo \n",
    "\n",
    "def avanzar(): #ponemos nombre a la funcion \n",
    "    #distancia_recorrida = 1000 #variable local \n",
    "    print(\"Distancia \", distancia_recorrida) #establecemos las instrucciones que estan dentro de la funcion\n",
    "\n",
    "avanzar()\n",
    "\n",
    "distancia_recorrida = 100 #variable esta fuera de la funcion, variables globales\n",
    "\n",
    "#Sentencia uno: distancia recorrida sea a pie  de Penguin a Mcal Lopez \n",
    "\n",
    "suma_distancias = distancia_recorrida + distancia_final\n",
    "print(suma_distancias)\n"
   ]
  },
  {
   "cell_type": "markdown",
   "metadata": {},
   "source": [
    "# Funciones con parametros y argumentos \n",
    "\n",
    "- Parametros: es un valor que la funcion espera recibir \n",
    "\n",
    "- Argumentos: es el valor que se envia al llamar a la funcion \n",
    "\n",
    "# Funcion vender autos, para censu y utilizar parametros y argumentos\n",
    "\n",
    "\n",
    "\n"
   ]
  },
  {
   "cell_type": "code",
   "execution_count": 26,
   "metadata": {},
   "outputs": [
    {
     "name": "stdout",
     "output_type": "stream",
     "text": [
      "auto vendido kia 2009 rojo\n",
      "auto vendido Kia picanto rojo 2021\n",
      "auto vendido Mercedes1 negro 2009\n",
      "auto vendido Mercedes2 verde 2020\n"
     ]
    }
   ],
   "source": [
    "def venta_de_autos(tipo_auto, color, anho): #asignamos nombre a la funcion y creamos un parametro\n",
    "    print(\"auto vendido\", tipo_auto, color, anho )\n",
    "venta_de_autos(\"Kia picanto\", \"rojo\", 2021)   #enviar el argumento a la funcion cuando la llamamos\n",
    "\n",
    "venta_de_autos(\"Mercedes1\", \"negro\", 2009)  #da venta \n",
    "venta_de_autos(\"Mercedes2\", \"verde\", 2020)  #da venta "
   ]
  },
  {
   "cell_type": "markdown",
   "metadata": {},
   "source": [
    "# Challenge \n",
    "\n",
    "Dada la funcion que acabamos de crear, definir un parametro mas e imprimirlo. "
   ]
  },
  {
   "cell_type": "code",
   "execution_count": 29,
   "metadata": {},
   "outputs": [
    {
     "name": "stdout",
     "output_type": "stream",
     "text": [
      "auto_vendido kia picanto rojo 2021 nuevo\n",
      "auto_vendido mercedes1 2009 rojo viejo\n",
      "auto_vendido mercedes2 verde 2020 nuevo\n",
      "auto_vendido toyota azul 2018 usado\n"
     ]
    }
   ],
   "source": [
    "#Solucion de Natalia \n",
    "\n",
    "def venta_de_autos(tipo_auto, color, año, condicion):\n",
    "    print (\"auto_vendido\", tipo_auto, color, año, condicion)\n",
    "venta_de_autos(\"kia picanto\", \"rojo\", 2021, \"nuevo\")\n",
    "\n",
    "venta_de_autos(\"mercedes1\", 2009, \"rojo\", \"viejo\")\n",
    "\n",
    "\n",
    "venta_de_autos(\"mercedes2\", \"verde\", 2020, \"nuevo\")\n",
    "venta_de_autos(\"toyota\", \"azul\", 2018, \"usado\")"
   ]
  },
  {
   "cell_type": "markdown",
   "metadata": {},
   "source": [
    "# Condicionales "
   ]
  },
  {
   "cell_type": "markdown",
   "metadata": {},
   "source": [
    "#Operadores de relacion y su interpretacion \n",
    "\n",
    "= asignacion \n",
    "\n",
    "== igual \n",
    "\n",
    "< menor que \n",
    "\n",
    "> mayor que \n",
    "\n",
    "!= es diferente \n",
    "\n",
    "\n",
    "<= menor e igual que \n",
    "\n",
    ">= mayor e igual que \n",
    "\n",
    "\n",
    "Palabras en python, que nos ayudan a hacer esas verificaciones y son las siguientes:\n",
    "- Sentencia if (si): El if se ejecuta siempre que la expresion que comprueba / verifica devuelva un True. \n",
    "- Sentencia elif (sino si): Se encadena a un if u otro elif para comprobar multiples condiciones\n",
    "- Sentencia else (sino): Se encadena a un if para comprobar el caso contrario (todo lo que resta)\n"
   ]
  },
  {
   "cell_type": "code",
   "execution_count": 39,
   "metadata": {},
   "outputs": [
    {
     "name": "stdout",
     "output_type": "stream",
     "text": [
      "Contrasenha erronea, ingrese de nuevo\n"
     ]
    }
   ],
   "source": [
    "comando_que_ingresa_usuario = input(\"Ingrese la contrasenha\") \n",
    "contrasenha_correcta = \"entrar\"\n",
    "\n",
    "if comando_que_ingresa_usuario == contrasenha_correcta: #if es si \n",
    "    print(\"Bienvenido a la computadora\")\n",
    "\n",
    "else: #es sino \n",
    "    print('Contrasenha erronea, ingrese de nuevo') \n",
    "\n"
   ]
  },
  {
   "cell_type": "code",
   "execution_count": 51,
   "metadata": {},
   "outputs": [],
   "source": [
    "#Escribir un programa que nos indique la calificacion de los estudiantes del bootcamp en escala del 10. \n",
    "\n",
    "\n",
    "\n",
    "valor_de_calificacion = int(input(\"Ingresa tu calificacion\"))\n",
    "\n",
    "if valor_de_calificacion >= 11: \n",
    "  #  print(\"Escala no valida\")\n",
    "  pedir_de_nuevo = int(input(\"ingresa otra calificacion\"))\n",
    "elif valor_de_calificacion >=7:\n",
    "    print(\"Muy bueno\")\n",
    "elif valor_de_calificacion >=5: \n",
    "    print(\"Bueno\")\n",
    "else: \n",
    "    print(\"Aplazado, hace otra vez el bootcamp te esperamos\")\n",
    "\n",
    "\n"
   ]
  },
  {
   "cell_type": "code",
   "execution_count": 53,
   "metadata": {},
   "outputs": [
    {
     "name": "stdout",
     "output_type": "stream",
     "text": [
      "Bienvenido ingresaste\n"
     ]
    }
   ],
   "source": [
    "contrasenha = int(input(\"Ingrese una contraseña\"))\n",
    "if contrasenha == 12345:\n",
    "    print(\"Bienvenido ingresaste\")\n",
    "else:\n",
    "    print(\"Contraseña incorrecta, fin del programa.\")"
   ]
  },
  {
   "cell_type": "code",
   "execution_count": 58,
   "metadata": {},
   "outputs": [
    {
     "name": "stdout",
     "output_type": "stream",
     "text": [
      "Listo realizado en un 17 %\n"
     ]
    }
   ],
   "source": [
    "trabajo = int(input(\"ingresa el estado\"))\n",
    "\n",
    "if trabajo >= 10:\n",
    "    print (\"Listo realizado en un\", trabajo, \"%\")\n",
    "\n",
    "elif trabajo >= 5:\n",
    "    print (\"casi listo\")\n",
    "\n",
    "else:\n",
    "    print (\"Sin realizar\")"
   ]
  },
  {
   "cell_type": "markdown",
   "metadata": {},
   "source": [
    "# Dos condicionales a la vez: operadores logicos \n",
    "\n",
    "\n",
    "and: Verdadero sólo si los dos elementos son verdaderos\n",
    "\n",
    "or: Verdadero si cualquiera de los elementos es verdadero\n",
    "\n",
    "not: Cambia el valor de Falso a Verdadero y viceversa"
   ]
  },
  {
   "cell_type": "code",
   "execution_count": 63,
   "metadata": {},
   "outputs": [
    {
     "name": "stdout",
     "output_type": "stream",
     "text": [
      " planillero \n"
     ]
    }
   ],
   "source": [
    "edad_laboral =  70 #el programa va a corroborar el estado del traabajo en relacion a la edad \n",
    "trabajar = False  #estado   \n",
    "\n",
    "if edad_laboral < 18: \n",
    "    print(\" Es menor de edad, no puede trabajar\")\n",
    "elif edad_laboral < 65 and trabajar == True: \n",
    "    print(\"Activo Laboralmente\")\n",
    "elif edad_laboral < 65 and trabajar == False:\n",
    "    print(\" planillero \")\n",
    "else: \n",
    "    print(\"jubilado\")\n",
    "\n",
    "#Trabaja: si trabaja o no trabaja si \n",
    "# trabaja: True\n",
    "# trabajar: False \n"
   ]
  },
  {
   "cell_type": "markdown",
   "metadata": {},
   "source": [
    "### Challenge \n",
    "\n",
    "Escribir un programa en el que se pregunte al usuario por una temperatura (en grados), imprima la temperatura escrita, y luego clasificar la temperatura ingresada en los siguientes niveles:\n",
    "\n",
    "Entre -10 y 18 grados, que imprima \"Fresquete\".\n",
    "Entre 19 y 30 grados, que imprima \"Calor'i\".\n",
    "Entre 31 y 45 grados, que imprima \"Hakuuuuuu\".\n",
    "Para todo lo demás, imprimir \"Ñamano mba'e!\"."
   ]
  },
  {
   "cell_type": "code",
   "execution_count": 64,
   "metadata": {},
   "outputs": [
    {
     "name": "stdout",
     "output_type": "stream",
     "text": [
      "Calor'i\n"
     ]
    }
   ],
   "source": [
    "print(\"Calor'i'\") # se abre con comilla simple y se comilla doble \n",
    "\n",
    "temperatura_actual = int(input(\"Cual es la temperatura actual?\")) \n",
    "#pista de la primera partecita\n",
    "\n"
   ]
  },
  {
   "cell_type": "code",
   "execution_count": null,
   "metadata": {},
   "outputs": [],
   "source": [
    "#Solucion de Lia \n",
    "\n",
    "temperatura= int(input(\"Indique temperatura en grados celcius\"))\n",
    "print(\"La temperatura en grados celcius es \",temperatura)\n",
    "\n",
    "if temperatura > 9 and temperatura <19: #entre 10 y 18 \n",
    "    print(\"Hace fresquete\")\n",
    "elif temperatura > 18 and temperatura <31: #entre 19 y 30 \n",
    "    print(\"Hace Calor'i\")\n",
    "elif temperatura > 30 and temperatura <46: \n",
    "    print(\"Hace Hakuuuuuu\")\n",
    "else:\n",
    "    print(\"No existen datos\")"
   ]
  },
  {
   "cell_type": "code",
   "execution_count": 70,
   "metadata": {},
   "outputs": [
    {
     "name": "stdout",
     "output_type": "stream",
     "text": [
      "Hakuuuuuu\n"
     ]
    }
   ],
   "source": [
    "#temperatura = int(input(\"Ingresar temperatura en grados Celsius\"))\n",
    "#print(temperatura,\"grados Celsius\") #imprimir la temperatura que ingreso el usuario\n",
    "\n",
    "def funcion_para_saber_estado_tiempo(valor_de_temperatura_ingresada): #definir el parametro \n",
    "\n",
    "    if valor_de_temperatura_ingresada >=-10 and valor_de_temperatura_ingresada <=18: #repetir \"temperatura\" antes y despues del \"and\" porque separa las dos condiciones\n",
    "        print(\"Fresquete\")\n",
    "    elif valor_de_temperatura_ingresada >=19 and valor_de_temperatura_ingresada <=30:\n",
    "        print(\"Calor'i\")\n",
    "    elif valor_de_temperatura_ingresada >=31 and valor_de_temperatura_ingresada <=45:\n",
    "        print(\"Hakuuuuuu\")\n",
    "    else:\n",
    "        print(\"Ñamano mba'e!\")\n",
    "#funcion_para_saber_estado_tiempo(temperatura)\n",
    "funcion_para_saber_estado_tiempo(45)"
   ]
  },
  {
   "cell_type": "markdown",
   "metadata": {},
   "source": [
    "# Bucles While \n",
    "\n",
    "Un bucle while permite repetir la ejecución de un grupo de instrucciones mientras se cumpla una condición (es decir, mientras la condición tenga el valor True). Al momento que la condicion deje de ser cierta el bucle va parar.\n",
    "\n",
    "Cuando la condicion se vuelve falsa se termina el programa, la variable de control va cambiando "
   ]
  },
  {
   "cell_type": "code",
   "execution_count": 72,
   "metadata": {},
   "outputs": [
    {
     "name": "stdout",
     "output_type": "stream",
     "text": [
      "2\n",
      "3\n",
      "4\n"
     ]
    }
   ],
   "source": [
    "#Ejemplo escribir un programa que imprima los números del 1 al 3 \n",
    "\n",
    "\n",
    "variable_numero = 1\n",
    "\n",
    "while variable_numero <= 3: \n",
    "    variable_numero = variable_numero + 1\n",
    "    print(variable_numero) \n"
   ]
  },
  {
   "cell_type": "markdown",
   "metadata": {},
   "source": [
    "# break, que sirve para romper la condicion del ciclo while "
   ]
  },
  {
   "cell_type": "code",
   "execution_count": null,
   "metadata": {},
   "outputs": [],
   "source": [
    "contrasenha_establecida = 123 \n",
    "\n",
    "while True:\n",
    "    contrasenha_ingresada = int(input(\"Introduce un numero\"))\n",
    "    if contrasenha_ingresada == contrasenha_establecida:\n",
    "        print(\"Contrasenha Correcta\")\n",
    "        break \n",
    "    else: \n",
    "        print(\"contrasenha incorrecta\")\n",
    "\n"
   ]
  },
  {
   "cell_type": "markdown",
   "metadata": {},
   "source": [
    "### Challenge \n",
    "\n",
    "Escribir un programa que almacene una contraseña en una variable, y pregunte al usuario por la contraseña hasta que introduzca la contraseña correcta.\n",
    "\n",
    "Cuando el usuario ingrese la contrasena correcta, imprimir un mensaje secreto."
   ]
  },
  {
   "cell_type": "markdown",
   "metadata": {},
   "source": [
    "# Listas "
   ]
  },
  {
   "cell_type": "code",
   "execution_count": 87,
   "metadata": {},
   "outputs": [
    {
     "name": "stdout",
     "output_type": "stream",
     "text": [
      "locote\n",
      "pan\n",
      "['locote', 'tomate', 'zanahoria', 'leche', 'embutidos', 'carnes', 'pan', 'Helado']\n",
      "['tomate', 'zanahoria', 'leche', 'embutidos', 'carnes', 'pan', 'Helado']\n",
      "['zanahoria', 'leche', 'embutidos', 'carnes', 'pan', 'Helado']\n",
      "['zanahoria', 'leche', 'carnes', 'pan', 'Helado']\n",
      "['rabanito', 'leche', 'carnes', 'pan', 'Helado']\n",
      "['rabanito', 'bombones', 'carnes', 'pan', 'Helado']\n",
      "['rabanito', 'carnes', 'pan', 'Helado']\n",
      "['rabanito', 'carnes', 'Helado']\n",
      "3\n"
     ]
    }
   ],
   "source": [
    "lista_supermercado = [\"locote\", \"tomate\", \"zanahoria\", \"leche\", \"embutidos\", \"carnes\", \"pan\"]\n",
    "\n",
    "lista_tipos_datos = [\"texto\", True, False, 300.4, 20, \"silla\"]\n",
    "\n",
    "print(lista_supermercado[0]) #acceder a los elementos de una lista \n",
    "print(lista_supermercado[6])\n",
    "\n",
    "lista_supermercado.append(\"Helado\") #agregar elementos a una lista, al final \n",
    "print(lista_supermercado)\n",
    "\n",
    "lista_supermercado.pop(0) #eliminar elementos por medio de la posicion\n",
    "print(lista_supermercado)\n",
    "\n",
    "lista_supermercado.pop(0)\n",
    "print(lista_supermercado)\n",
    "\n",
    "lista_supermercado.pop(2)\n",
    "print(lista_supermercado)\n",
    "\n",
    "lista_supermercado[0] = \"rabanito\"\n",
    "print(lista_supermercado)\n",
    "\n",
    "lista_supermercado[1] = \"bombones\"\n",
    "print(lista_supermercado)\n",
    "\n",
    "lista_supermercado.pop(1)\n",
    "print(lista_supermercado)\n",
    "\n",
    "lista_supermercado.remove(\"pan\")\n",
    "print(lista_supermercado)\n",
    "\n",
    "#contar elementos de una lista con len \n",
    "\n",
    "print(len(lista_supermercado)) "
   ]
  },
  {
   "cell_type": "markdown",
   "metadata": {},
   "source": [
    "### Challenge \n",
    "\n",
    "Crear una lista de 5 elementos. Luego, seguir los siguientes pasos.\n",
    "\n",
    "- Agregar un elemento al final de la lista.\n",
    "\n",
    "- Modificar el segundo elemento.\n",
    "\n",
    "- Eliminar el tercer elemento."
   ]
  },
  {
   "cell_type": "code",
   "execution_count": null,
   "metadata": {},
   "outputs": [],
   "source": [
    "# Como crear una lista: lista_nueva_only_frutas = [\"manzana\", \"pera\", \"pinha\"]\n",
    "# Agregar elementos a una lista. Ejemplo: lista_supermercado.append(\"Kiwi\")\n",
    "# Modificar elementos lista_supermercado[0] = \"rabanito\" \n",
    "# Eliminar el tercer elemento lista_supermercado.pop(2) \n",
    "\n"
   ]
  },
  {
   "cell_type": "code",
   "execution_count": null,
   "metadata": {},
   "outputs": [],
   "source": [
    "#Solucion de Kerana\n",
    "\n",
    "lista_utiles = [\"lapiz\", \"borrador\", \"boligrafo\", \"pinceles\", \"regla\", \"cartuchera\"]\n",
    "#agregamos\n",
    "lista_utiles.append (\"resaltador\")\n",
    "print (lista_utiles)\n",
    "#modificar\n",
    "lista_utiles[2] = \"hoja oficio\"\n",
    "print (lista_utiles)\n",
    "#eliminamos el tercer elemento\n",
    "lista_utiles.pop (1)\n",
    "print (lista_utiles)\n",
    "#saber la cantidad de elementos de la lista \n",
    "print (len(lista_utiles))"
   ]
  }
 ],
 "metadata": {
  "kernelspec": {
   "display_name": "Python 3.10.4 64-bit",
   "language": "python",
   "name": "python3"
  },
  "language_info": {
   "codemirror_mode": {
    "name": "ipython",
    "version": 3
   },
   "file_extension": ".py",
   "mimetype": "text/x-python",
   "name": "python",
   "nbconvert_exporter": "python",
   "pygments_lexer": "ipython3",
   "version": "3.10.4"
  },
  "orig_nbformat": 4,
  "vscode": {
   "interpreter": {
    "hash": "aee8b7b246df8f9039afb4144a1f6fd8d2ca17a180786b69acc140d282b71a49"
   }
  }
 },
 "nbformat": 4,
 "nbformat_minor": 2
}
