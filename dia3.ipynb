{
 "cells": [
  {
   "cell_type": "markdown",
   "metadata": {},
   "source": [
    "# Bucle for \n",
    "\n"
   ]
  },
  {
   "cell_type": "markdown",
   "metadata": {},
   "source": [
    "Bucle for se utiliza para recorrer los elementos. \n"
   ]
  },
  {
   "cell_type": "code",
   "execution_count": null,
   "metadata": {},
   "outputs": [],
   "source": [
    "listas_estudiantes = [\"Vale\", \"Lara\", \"Laura\", \"Rocio\", \"Rosalia\"]\n",
    "#un bucle for lleva la palabra for al inicio, con minuscula, palabra reservada\n",
    "\n",
    "for iterador in listas_estudiantes: #por cada nombre en la lista de estudiantes\n",
    "    print(iterador) #imprime cada nombre \n"
   ]
  },
  {
   "cell_type": "code",
   "execution_count": null,
   "metadata": {},
   "outputs": [],
   "source": [
    "#Escribir un programa que imprima Hola. Buen dia, 5 veces \n",
    "\n",
    "for saludo in range(5): \n",
    "    print(\"Hola Buen dia\")\n"
   ]
  },
  {
   "cell_type": "markdown",
   "metadata": {},
   "source": [
    "### Challenge \n",
    "\n",
    "Escribir un programa que itere en un rango de 10 veces. Por cada iteracion multiplicar el iterador por dos e imprimir el resultado."
   ]
  },
  {
   "cell_type": "code",
   "execution_count": null,
   "metadata": {},
   "outputs": [],
   "source": [
    "# utilizar for in range \n",
    "# establecer como numero para range, el numero 10 \n",
    "# imprimir el resultado de la multiplicacion --> utilizar print \n",
    "# para multiplicar usar * \n",
    "\n"
   ]
  },
  {
   "cell_type": "code",
   "execution_count": 9,
   "metadata": {},
   "outputs": [
    {
     "name": "stdout",
     "output_type": "stream",
     "text": [
      "0\n",
      "2\n",
      "4\n",
      "6\n",
      "8\n",
      "10\n",
      "12\n",
      "14\n",
      "16\n",
      "18\n"
     ]
    }
   ],
   "source": [
    "for variable1 in range(10): #iterador aqui se llama variable1, y se genero un rango de 10\n",
    "    variable1 = variable1 *2 #la multiplicacion, se efectua cuando se ejecuta \n",
    "    print(variable1) #imprimir resultado de la multiplicacion"
   ]
  },
  {
   "cell_type": "code",
   "execution_count": null,
   "metadata": {},
   "outputs": [],
   "source": [
    "for multiplicacion2 in range(2,6):  #hacer rangos para range \n",
    "    print(multiplicacion2)\n",
    "    multiplicacion2 = multiplicacion2 *5\n",
    "    print(multiplicacion2)"
   ]
  },
  {
   "cell_type": "markdown",
   "metadata": {},
   "source": [
    "# Recorrer strings "
   ]
  },
  {
   "cell_type": "code",
   "execution_count": null,
   "metadata": {},
   "outputs": [],
   "source": [
    "# textos, son cadenas de caracteres \n",
    "\n",
    "palabra = \"otorinolaringologo\"\n",
    "\n",
    "for letra in palabra:\n",
    "    print(letra)\n",
    "\n"
   ]
  },
  {
   "cell_type": "markdown",
   "metadata": {},
   "source": [
    "# Repaso y proyecto (Wordle)\n",
    "\n",
    "Vamos al sitio web de wordle https://lapalabradeldia.com/  \n",
    "\n",
    "#Palabra del dia INDIA, prueben con incorrectas para ir entendiendo el juego\n",
    "\n",
    "Requerimientos para el proyectito: \n",
    "\n",
    "Necesitamos lo siguiente:\n",
    "\n",
    "    - Variables\n",
    "    - Tipos de datos\n",
    "    - Concatenación\n",
    "    - Operadores lógicos\n",
    "    - Condicionales (control de flujo)\n",
    "    - Funciones (propias & built-in)\n",
    "    - Bucles\n",
    "    - Listas \n",
    "\n",
    "\n",
    "# Logica de las pistas del juego que vamos a usar en vez de colores \n",
    "\n",
    "- Si las letras existen en la palabra a encontrar y sus posiciones coinciden: Encerrarlas en [] y agregar al resultado. **Seria como el verde del juego**\n",
    "- Si las letras existen en la palabra a encontrar pero sus posiciones no coinciden: Encerrarlas en () y agregar al resultado. **Seria como el amarillo del juego** \n",
    "- Si no se cumple ninguna de las anteriores, agregar al resultado sin hacer modificaciones. \n"
   ]
  },
  {
   "cell_type": "code",
   "execution_count": 18,
   "metadata": {},
   "outputs": [
    {
     "name": "stdout",
     "output_type": "stream",
     "text": [
      "INDIA\n",
      "PARAGUAY\n",
      "54.8\n",
      "<class 'float'>\n"
     ]
    }
   ],
   "source": [
    "# Variables \n",
    "\n",
    "palabra = \"calor\" #--> texto son string --> str\n",
    "\n",
    "palabra_correcta = \"INDIA\" #palabras dentro de variables\n",
    "print(palabra_correcta)\n",
    "\n",
    "palabra_correcta = \"PARAGUAY\"\n",
    "print(palabra_correcta)\n",
    "\n",
    "letra = \"a\" #letras dentro de variables\n",
    "letra2 = \"b\"\n",
    "\n",
    "# Tipos de datos \n",
    "\n",
    "biggie_abierta_ahora = True #bol --> si \n",
    "biggie_abierto_feriado = False #bol --> no \n",
    "\n",
    "cantidad_de_participantes = 22 #numerico, es un numero entero --> int \n",
    "peso_de_la_persona_alex = 54.8 #numerico, es un decimal --> float \n",
    "\n",
    "lista_variada = [\"Paraguay\", True, 22, 54.8] #los tipos de datos \n",
    "\n",
    "#acceder a elementos de una lista \n",
    "\n",
    "print(lista_variada[3])\n",
    "print(type(54.8))"
   ]
  },
  {
   "cell_type": "markdown",
   "metadata": {},
   "source": [
    "# Concatenacion \"en el caso de sumar textos , etc\""
   ]
  },
  {
   "cell_type": "code",
   "execution_count": 21,
   "metadata": {},
   "outputs": [
    {
     "name": "stdout",
     "output_type": "stream",
     "text": [
      "Palabra ingresada es calor\n",
      "Palabra ingresada calor\n"
     ]
    }
   ],
   "source": [
    "#Concatenacion de textos \n",
    "\n",
    "# Imprimir: La palabra ingresada es calor \n",
    "\n",
    "print(\"Palabra ingresada es \" + palabra) #concatenando textos \n",
    "\n",
    "#Comas: sirven para separar elementos \n",
    "\n",
    "print(\"Palabra ingresada\", palabra)\n"
   ]
  },
  {
   "cell_type": "markdown",
   "metadata": {},
   "source": [
    "# Operadores "
   ]
  },
  {
   "cell_type": "code",
   "execution_count": 23,
   "metadata": {},
   "outputs": [
    {
     "name": "stdout",
     "output_type": "stream",
     "text": [
      "Hola mundo\n",
      "india\n"
     ]
    }
   ],
   "source": [
    "# = es de asignacion y se usa con las variables por ejemplo \n",
    "nueva_palabra = \"frio\"\n",
    "# == es para establecer una igualdad \n",
    "nueva_palabra == \"frio\" #es cierto entonces es un True\n",
    "palabra == \"frio\" #es mentira, entonces es False es falso \n",
    "\n",
    "# > mayor que \n",
    "# < menor que \n",
    "# >= mayor que / igual \n",
    "# <= menor que / igual  \n",
    "# sentencia condicion algo a evaluar and sentencia condicion algo a evaluar \n",
    "\n",
    "# A continuacion citamos las condicionales estudiadas:\n",
    "# if \n",
    "# elif\n",
    "# else \n",
    "\n",
    "# Funciones \n",
    "\n",
    "def imprimir_saludo(): #iniciamos la funcion y le pusimos nombre\n",
    "    print(\"Hola mundo\") #establecimos que instrucciones van a ejecutar la funcion al llamarla\n",
    "imprimir_saludo() #llamamos a la funcion usando su nombre\n",
    "\n",
    "palabra_a_ingresar = input(\"Usuario ingresa por fa una palabra\")\n",
    "print(palabra_a_ingresar)\n"
   ]
  },
  {
   "cell_type": "markdown",
   "metadata": {},
   "source": [
    "# Challenge \n",
    "\n",
    "Pedir al usuario una palabra y que se imprima la variable palabra por medio de la funcion "
   ]
  },
  {
   "cell_type": "code",
   "execution_count": 24,
   "metadata": {},
   "outputs": [
    {
     "name": "stdout",
     "output_type": "stream",
     "text": [
      "Oso\n"
     ]
    }
   ],
   "source": [
    "#Solucion de Natalia \n",
    "\n",
    "palabra = input(\"Escribe el nombre de un animal salvaje\") #pedir al usuario dato \n",
    "\n",
    "\n",
    "def imprimir_nombre_animal ():\n",
    "    print(palabra) #imprimir \n",
    "\n",
    "imprimir_nombre_animal()"
   ]
  },
  {
   "cell_type": "code",
   "execution_count": 25,
   "metadata": {},
   "outputs": [
    {
     "name": "stdout",
     "output_type": "stream",
     "text": [
      "india\n"
     ]
    }
   ],
   "source": [
    "palabra_a_ingresar = input(\"Por favor ingrese una palabra!\")\n",
    "#print(palabra_a_ingresar)\n",
    "def imprimir_palabra():\n",
    "    print(palabra_a_ingresar)\n",
    "\n",
    "imprimir_palabra()"
   ]
  },
  {
   "cell_type": "markdown",
   "metadata": {},
   "source": [
    "# Parametros y argumentos "
   ]
  },
  {
   "cell_type": "code",
   "execution_count": 28,
   "metadata": {},
   "outputs": [
    {
     "name": "stdout",
     "output_type": "stream",
     "text": [
      "3\n",
      "A B\n"
     ]
    }
   ],
   "source": [
    "#Funcion que sume dos numeros e imprima el resultado \n",
    "\n",
    "def suma_de_numeros(numero1,numero2):  #establecer cuantos parametros van a recibir la funcion\n",
    "    resultado = numero1 + numero2 #la instruccion que es sumar \n",
    "    print(resultado)\n",
    "suma_de_numeros(1, 2)\n",
    "\n",
    "#ahora hacer esto mismo en concatenacion \n",
    "\n",
    "def sumar_texto(letra11,letra22):\n",
    "    suma_final_texto = letra11 + letra22 #concatenacion\n",
    "    print(suma_final_texto)\n",
    "sumar_texto(\"A \",\"B\")\n",
    "\n"
   ]
  },
  {
   "cell_type": "code",
   "execution_count": 30,
   "metadata": {},
   "outputs": [
    {
     "name": "stdout",
     "output_type": "stream",
     "text": [
      "Las letras son iguales\n"
     ]
    }
   ],
   "source": [
    "#Un programa que compare dos letras, y me imprima si son iguales o diferentes\n",
    "\n",
    "letra_uno = \"a\"\n",
    "letra_dos = \"a\"\n",
    "\n",
    "if letra_uno == letra_dos:\n",
    "    print(\"Las letras son iguales\")\n",
    "else: \n",
    "    print(\"Las letras son diferentes\")\n",
    "\n"
   ]
  },
  {
   "cell_type": "markdown",
   "metadata": {},
   "source": [
    "## Challenge \n",
    "\n",
    "Crear una función que reciba dos letras (parámetros) y que verifique si son iguales:\n",
    "\n",
    "1. Si son iguales, imprimir \"Las letras son iguales\".\n",
    "\n",
    "2. De lo contrario, imprimir \"Las letras son diferentes\"."
   ]
  },
  {
   "cell_type": "code",
   "execution_count": null,
   "metadata": {},
   "outputs": [],
   "source": [
    "#Solucion de Nilsa \n",
    "\n",
    "primeraletra=input(\"ingresa la primera letra\")\n",
    "segundaletra=input(\"Ingresa la segunda letra\")\n",
    "def comparacion_de_letras ( primeraletra, segundaletra): \n",
    "\n",
    "  if primeraletra==segundaletra:\n",
    "    print(\"Las letras son iguales\")\n",
    "  else:\n",
    "    print(\"Las letras no son iguales\") \n",
    "\n",
    "comparacion_de_letras(primeraletra, segundaletra)"
   ]
  },
  {
   "cell_type": "code",
   "execution_count": 32,
   "metadata": {},
   "outputs": [
    {
     "name": "stdout",
     "output_type": "stream",
     "text": [
      "Las letras son iguales\n"
     ]
    }
   ],
   "source": [
    "#Solucion de Vale\n",
    "\n",
    "def letras (letra1,letra2): #le puse ya los parametros que quiero ver si son iguales\n",
    "    if letra1 == letra2:\n",
    "     print(\"Las letras son iguales\")\n",
    "    else:\n",
    "        print(\"Las letras son diferentes\")\n",
    "letras(\"B\",\"B\") #le di los argumentos del parametro que quiero comparar"
   ]
  },
  {
   "cell_type": "code",
   "execution_count": 33,
   "metadata": {},
   "outputs": [
    {
     "name": "stdout",
     "output_type": "stream",
     "text": [
      "Las letras son diferentes\n",
      "Las letras son diferentes\n",
      "Las letras son iguales\n"
     ]
    }
   ],
   "source": [
    "def comparar(a,b): #a y b son nombres de variables parametros \n",
    "    if a == b: \n",
    "        print(\"Las letras son iguales\")\n",
    "    else:\n",
    "        print(\"Las letras son diferentes\")\n",
    "\n",
    "\n",
    "letra_uno = \"a\"\n",
    "letra_dos = \"h\"\n",
    "#la iinformacion o el dato esta dentro de una variables  \n",
    "comparar(letra_uno, letra_dos) #este llamado retorna un No = False \n",
    "comparar('g', 'x') #este llamado retornabal un No = False \n",
    "\n",
    "cosito1 ='t'\n",
    "cosito2 ='t'\n",
    "comparar(cosito1, cosito2) #este llamado retornaba un Si = True "
   ]
  },
  {
   "cell_type": "code",
   "execution_count": 41,
   "metadata": {},
   "outputs": [
    {
     "name": "stdout",
     "output_type": "stream",
     "text": [
      "Las letras son iguales\n"
     ]
    }
   ],
   "source": [
    "#Solucion de Vale \n",
    "\n",
    "def letras (letra1,letra2): #le puse ya los parametros que quiero ver si son iguales\n",
    "    if letra1 == letra2:\n",
    "    \n",
    "       # print(\"Las letras son iguales\") #Esta condicion es un True es un si \n",
    "       return print(\"Las letras son iguales\")\n",
    "    else:\n",
    "       # print(\"Las letras son diferentes\") #esta condicion es un No es un False \n",
    "       return False \n",
    "letras(\"B\",\"B\") #le di los argumentos del parametro que quiero comparar\n",
    "\n"
   ]
  },
  {
   "cell_type": "code",
   "execution_count": 56,
   "metadata": {},
   "outputs": [
    {
     "name": "stdout",
     "output_type": "stream",
     "text": [
      "14\n",
      "16\n"
     ]
    }
   ],
   "source": [
    "\n",
    "def calculadora(numero_uno,numero_dos): #definimos nombre de la funcion y cuantos parametros va a recibir \n",
    "    resultado = numero_uno + numero_dos #definir instrucciones de la funcion el cuerpo \n",
    "    return resultado #la funcion retorna solo el numero sumado \n",
    "#calculadora(5,8)  #asignando argumentos = valores que se van a asignar a los parametros = variables \n",
    "\n",
    "nuevo_llamado = calculadora(11,3) \n",
    "print(nuevo_llamado) \n",
    "\n",
    "suma_nueva = 2 + nuevo_llamado\n",
    "print(suma_nueva)  \n",
    "\n"
   ]
  },
  {
   "cell_type": "code",
   "execution_count": 57,
   "metadata": {},
   "outputs": [
    {
     "name": "stdout",
     "output_type": "stream",
     "text": [
      "4\n"
     ]
    }
   ],
   "source": [
    "# len se utiliza para tener un resultado \n",
    "\n",
    "#len sirve para saber la cantidad, en este caso de letras de una palabra \n",
    "print(len(\"Alex\")) \n"
   ]
  },
  {
   "cell_type": "markdown",
   "metadata": {},
   "source": [
    "## Challenge \n",
    "\n",
    "Crear una función que reciba dos parámetros (una palabra y un número), y que devuelva `True` si el número es igual a la cantidad de letras de la palabra. En caso contrario, que devuelva `False`.\n",
    "\n",
    "Pista: `cantidad de letras de una palabra en python` se calcula con len()"
   ]
  },
  {
   "cell_type": "code",
   "execution_count": null,
   "metadata": {},
   "outputs": [],
   "source": [
    "#Descomposicion del problema: \n",
    "# crear una funcion, iniciar con def. Establecer dos parametros: palabra y numero \n",
    "# igual: condicion que se evalua. Se usa if, y el operador == \n",
    "# se compara numero con la cantidad de letras \n",
    "# numero de letras se obtiene con len()\n",
    "# devolver: return True o return False \n"
   ]
  },
  {
   "cell_type": "code",
   "execution_count": 59,
   "metadata": {},
   "outputs": [
    {
     "data": {
      "text/plain": [
       "True"
      ]
     },
     "execution_count": 59,
     "metadata": {},
     "output_type": "execute_result"
    }
   ],
   "source": [
    "#solucion de Ana \n",
    "\n",
    "def conjunto(palabra,numero):\n",
    "    if len(palabra) == numero:\n",
    "        return True\n",
    "    else:\n",
    "        return False\n",
    "conjunto(\"Fretes\",6)"
   ]
  },
  {
   "cell_type": "code",
   "execution_count": 58,
   "metadata": {},
   "outputs": [
    {
     "data": {
      "text/plain": [
       "True"
      ]
     },
     "execution_count": 58,
     "metadata": {},
     "output_type": "execute_result"
    }
   ],
   "source": [
    "def comparar_palabra_y_numero(palabra,numero):\n",
    "    if len(palabra) == numero:\n",
    "        return True\n",
    "    else:\n",
    "        return False\n",
    "\n",
    "comparar_palabra_y_numero (\"hola\",4)"
   ]
  },
  {
   "cell_type": "markdown",
   "metadata": {},
   "source": [
    "## Challenge \n",
    "Crear función que revise si una palabra contiene una letra. En caso de que la contenga, retornar la letra entre corchetes `[]`. De lo contrario, retornar solo la letra.    \n",
    "\n",
    "Pista principal: return \"[\" + letra + \"]\" #concatenacion  \n",
    "La letra debe de quedar asi: [A]"
   ]
  }
 ],
 "metadata": {
  "kernelspec": {
   "display_name": "Python 3.10.4 64-bit",
   "language": "python",
   "name": "python3"
  },
  "language_info": {
   "codemirror_mode": {
    "name": "ipython",
    "version": 3
   },
   "file_extension": ".py",
   "mimetype": "text/x-python",
   "name": "python",
   "nbconvert_exporter": "python",
   "pygments_lexer": "ipython3",
   "version": "3.10.4"
  },
  "orig_nbformat": 4,
  "vscode": {
   "interpreter": {
    "hash": "aee8b7b246df8f9039afb4144a1f6fd8d2ca17a180786b69acc140d282b71a49"
   }
  }
 },
 "nbformat": 4,
 "nbformat_minor": 2
}
